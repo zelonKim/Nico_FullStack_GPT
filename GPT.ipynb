{
 "cells": [
  {
   "cell_type": "code",
   "execution_count": 1,
   "metadata": {},
   "outputs": [
    {
     "name": "stderr",
     "output_type": "stream",
     "text": [
      "/Users/gimseongjin/FullStack_GPT/env/lib/python3.11/site-packages/tqdm/auto.py:21: TqdmWarning: IProgress not found. Please update jupyter and ipywidgets. See https://ipywidgets.readthedocs.io/en/stable/user_install.html\n",
      "  from .autonotebook import tqdm as notebook_tqdm\n"
     ]
    },
    {
     "data": {
      "text/plain": [
       "' Potato is a starchy vegetable that is grown underground in rows in a shallow, well-drained soil. It is a tuber, which means it is an underground, fleshy part of the plant that stores nutrients. Potatoes are a popular food source and are used in many different dishes, including salads, soups, stews, and baked dishes. They are also used as a source of starch for making paper and other products. Potatoes are high in carbohydrates and are a good source of fiber, vitamin C, and potassium.'"
      ]
     },
     "execution_count": 1,
     "metadata": {},
     "output_type": "execute_result"
    }
   ],
   "source": [
    "from langchain.llms import HuggingFaceHub\n",
    "from langchain.prompts import PromptTemplate\n",
    "\n",
    "prompt = PromptTemplate.from_template(\"[INST]What is the meaning of {word}[/INST]\")\n",
    "\n",
    "llm = HuggingFaceHub(\n",
    "    repo_id=\"mistralai/Mistral-7B-Instruct-v0.1\",\n",
    "    model_kwargs={\n",
    "        \"max_new_tokens\":250,\n",
    "    },\n",
    ")\n",
    "\n",
    "chain = prompt | llm\n",
    "\n",
    "chain.invoke({\n",
    "    \"word\": \"potato\"\n",
    "})\n"
   ]
  },
  {
   "cell_type": "code",
   "execution_count": 14,
   "metadata": {},
   "outputs": [
    {
     "name": "stderr",
     "output_type": "stream",
     "text": [
      "/Users/gimseongjin/FullStack_GPT/env/lib/python3.11/site-packages/tqdm/auto.py:21: TqdmWarning: IProgress not found. Please update jupyter and ipywidgets. See https://ipywidgets.readthedocs.io/en/stable/user_install.html\n",
      "  from .autonotebook import tqdm as notebook_tqdm\n",
      "Using pad_token, but it is not set yet.\n",
      "Setting `pad_token_id` to `eos_token_id`:50256 for open-end generation.\n"
     ]
    },
    {
     "data": {
      "text/plain": [
       "' kind of green cheese on the side that grows in the soil or in soil in soil, and it will also form its own vineyard or tree. The potato has become so adapted to being so hard and hard to move around that it can never be found without it. You can find potato growing under certain very cold temperatures and even under very hot places as long as there is water. Also, while the potato can be used as a grain instead of a food product and it is a fairly cheap way to grow and store potato, it is not nearly as nutritious for those who want it as it is for those who want its use on the table.\\n\\nThe potato is very hard on the liver and can get eaten quickly by children.\\n\\n'"
      ]
     },
     "execution_count": 14,
     "metadata": {},
     "output_type": "execute_result"
    }
   ],
   "source": [
    "from langchain.llms.huggingface_pipeline import HuggingFacePipeline\n",
    "from langchain.prompts import PromptTemplate\n",
    "\n",
    "prompt = PromptTemplate.from_template(\"A {word} is a\")\n",
    "\n",
    "llm = HuggingFacePipeline.from_model_id(\n",
    "    model_id=\"gpt2\",\n",
    "    task=\"text-generation\",\n",
    "    pipeline_kwargs={\n",
    "        \"max_new_tokens\": 150\n",
    "    },\n",
    ")\n",
    "\n",
    "chain = prompt | llm\n",
    "\n",
    "chain.invoke({\n",
    "    \"word\": \"potato\"\n",
    "})\n",
    "\n"
   ]
  },
  {
   "cell_type": "code",
   "execution_count": null,
   "metadata": {},
   "outputs": [],
   "source": [
    "from langchain.llms import GPT4All\n",
    "from langchain.prompts import PromptTemplate\n",
    "\n",
    "prompt = PromptTemplate.from_template(\"A {word} is a\")\n",
    "\n",
    "llm = GPT4All(\n",
    "   model=\"./falcon.bin\",\n",
    ")\n",
    "\n",
    "chain = prompt | llm\n",
    "\n",
    "chain.invoke({\n",
    "    \"word\": \"potato\"\n",
    "})"
   ]
  },
  {
   "cell_type": "code",
   "execution_count": null,
   "metadata": {},
   "outputs": [],
   "source": []
  },
  {
   "cell_type": "code",
   "execution_count": 1,
   "metadata": {},
   "outputs": [
    {
     "data": {
      "text/plain": [
       "'{\\n  \"lon\": \"126.9779\",\\n  \"lat\": \"37.5665\"\\n}'"
      ]
     },
     "execution_count": 1,
     "metadata": {},
     "output_type": "execute_result"
    }
   ],
   "source": [
    "from langchain.chat_models import ChatOpenAI\n",
    "from langchain.prompts import PromptTemplate\n",
    "\n",
    "\n",
    "def get_weather(lon, lat):\n",
    "    print(\"call an api...\")\n",
    "\n",
    "\n",
    "function = {\n",
    "    \"name\": \"get_weather\",\n",
    "\n",
    "    \"description\": \"function that takes longitude and latitude to find the weather of the place\",\n",
    "\n",
    "    \"parameters\": {\n",
    "        \"type\": \"object\",\n",
    "        \"properties\": {\n",
    "            \"lon\": {\n",
    "                \"type\": \"string\",\n",
    "                \"description\": \"The longitude coordinate\"\n",
    "            },\n",
    "            \"lat\": {\n",
    "                \"type\": \"string\",\n",
    "                \"description\": \"The latitude coordinate\"\n",
    "            }\n",
    "        }\n",
    "    },\n",
    "\n",
    "    \"required\": [\"lon\", \"lat\"]\n",
    "}\n",
    "\n",
    "\n",
    "\n",
    "llm = ChatOpenAI(\n",
    "    temperature=0.1\n",
    ").bind(\n",
    "    function_call = \"auto\",\n",
    "    functions=[function]\n",
    ")\n",
    "\n",
    "\n",
    "prompt = PromptTemplate.from_template(\"How is the weather in {city}\")\n",
    "\n",
    "chain = prompt | llm\n",
    "\n",
    "response = chain.invoke({\"city\": \"seoul\"})\n",
    "\n",
    "response = response.additional_kwargs[\"function_call\"][\"arguments\"]\n",
    "\n",
    "response\n"
   ]
  },
  {
   "cell_type": "code",
   "execution_count": 8,
   "metadata": {},
   "outputs": [
    {
     "name": "stdout",
     "output_type": "stream",
     "text": [
      "call an api...\n"
     ]
    }
   ],
   "source": [
    "import json\n",
    "\n",
    "r = json.loads(response)\n",
    "\n",
    "get_weather(r[\"lon\"], r[\"lat\"])"
   ]
  },
  {
   "cell_type": "code",
   "execution_count": 11,
   "metadata": {},
   "outputs": [
    {
     "data": {
      "text/plain": [
       "'{\\n  \"questions\": [\\n    {\\n      \"question\": \"What is the capital city of South Korea?\",\\n      \"answers\": [\\n        {\\n          \"answer\": \"Seoul\",\\n          \"correct\": true\\n        },\\n        {\\n          \"answer\": \"Busan\",\\n          \"correct\": false\\n        },\\n        {\\n          \"answer\": \"Incheon\",\\n          \"correct\": false\\n        },\\n        {\\n          \"answer\": \"Daegu\",\\n          \"correct\": false\\n        }\\n      ]\\n    },\\n    {\\n      \"question\": \"Which river flows through Seoul?\",\\n      \"answers\": [\\n        {\\n          \"answer\": \"Han River\",\\n          \"correct\": true\\n        },\\n        {\\n          \"answer\": \"Nakdong River\",\\n          \"correct\": false\\n        },\\n        {\\n          \"answer\": \"Geum River\",\\n          \"correct\": false\\n        },\\n        {\\n          \"answer\": \"Yeongsan River\",\\n          \"correct\": false\\n        }\\n      ]\\n    },\\n    {\\n      \"question\": \"What is the tallest building in Seoul?\",\\n      \"answers\": [\\n        {\\n          \"answer\": \"Lotte World Tower\",\\n          \"correct\": true\\n        },\\n        {\\n          \"answer\": \"N Seoul Tower\",\\n          \"correct\": false\\n        },\\n        {\\n          \"answer\": \"63 Building\",\\n          \"correct\": false\\n        },\\n        {\\n          \"answer\": \"Seoul Sky\",\\n          \"correct\": false\\n        }\\n      ]\\n    },\\n    {\\n      \"question\": \"Which palace is located in the heart of Seoul?\",\\n      \"answers\": [\\n        {\\n          \"answer\": \"Gyeongbokgung Palace\",\\n          \"correct\": true\\n        },\\n        {\\n          \"answer\": \"Changdeokgung Palace\",\\n          \"correct\": false\\n        },\\n        {\\n          \"answer\": \"Deoksugung Palace\",\\n          \"correct\": false\\n        },\\n        {\\n          \"answer\": \"Changgyeonggung Palace\",\\n          \"correct\": false\\n        }\\n      ]\\n    },\\n    {\\n      \"question\": \"What is the famous shopping district in Seoul?\",\\n      \"answers\": [\\n        {\\n          \"answer\": \"Myeongdong\",\\n          \"correct\": true\\n        },\\n        {\\n          \"answer\": \"Gangnam\",\\n          \"correct\": false\\n        },\\n        {\\n          \"answer\": \"Hongdae\",\\n          \"correct\": false\\n        },\\n        {\\n          \"answer\": \"Dongdaemun\",\\n          \"correct\": false\\n        }\\n      ]\\n    }\\n  ]\\n}'"
      ]
     },
     "execution_count": 11,
     "metadata": {},
     "output_type": "execute_result"
    }
   ],
   "source": [
    "from langchain.chat_models import ChatOpenAI\n",
    "from langchain.prompts import PromptTemplate\n",
    "\n",
    "\n",
    "function = {\n",
    "    \"name\": \"create_quiz\",\n",
    "\n",
    "    \"description\": \"function that takes a list of questions and answers and returns a quiz\",\n",
    "    \n",
    "    \"parameters\": {\n",
    "        \"type\": \"object\",\n",
    "        \"properties\": {\n",
    "            \"questions\": {\n",
    "                \"type\": \"array\",\n",
    "                \"items\": {\n",
    "                    \"type\": \"object\",\n",
    "                    \"properties\": {\n",
    "                        \"question\": {\n",
    "                            \"type\": \"string\",\n",
    "                        },\n",
    "                        \"answers\": {\n",
    "                            \"type\": \"array\",\n",
    "                            \"items\": {\n",
    "                                \"type\": \"object\",\n",
    "                                \"properties\": {\n",
    "                                    \"answer\": {\n",
    "                                        \"type\": \"string\",\n",
    "                                    },\n",
    "                                    \"correct\": {\n",
    "                                        \"type\": \"boolean\",\n",
    "                                    },\n",
    "                                },\n",
    "                                \"required\": [\"answer\", \"correct\"],\n",
    "                            },\n",
    "                        },\n",
    "                    },\n",
    "                    \"required\": [\"question\", \"answers\"],\n",
    "                },\n",
    "            }\n",
    "        },\n",
    "        \"required\": [\"questions\"],\n",
    "    },\n",
    "}\n",
    "\n",
    "\n",
    "llm = ChatOpenAI(\n",
    "    temperature=0.1,\n",
    ").bind(\n",
    "    function_call={\n",
    "        \"name\": \"create_quiz\",\n",
    "    },\n",
    "    functions=[\n",
    "        function,\n",
    "    ],\n",
    ")\n",
    "\n",
    "prompt = PromptTemplate.from_template(\"Make a quiz about {city}\")\n",
    "\n",
    "chain = prompt | llm\n",
    "\n",
    "response = chain.invoke({\"city\": \"Seoul\"})\n",
    "\n",
    "\n",
    "response = response.additional_kwargs[\"function_call\"][\"arguments\"]\n",
    "\n",
    "response"
   ]
  },
  {
   "cell_type": "code",
   "execution_count": null,
   "metadata": {},
   "outputs": [],
   "source": [
    "import json\n",
    "\n",
    "for question in json.loads(response)[\"questions\"]:\n",
    "    print(question)"
   ]
  },
  {
   "cell_type": "code",
   "execution_count": null,
   "metadata": {},
   "outputs": [],
   "source": [
    "\n",
    "##################################"
   ]
  },
  {
   "cell_type": "code",
   "execution_count": 15,
   "metadata": {},
   "outputs": [],
   "source": [
    "import subprocess \n",
    "from pydub import AudioSegment  \n",
    "import math\n",
    "\n",
    "\n",
    "def extract_audio_from_video(video_path, audio_path):\n",
    "    command = [\"ffmpeg\", \"-i\", video_path, \"-vn\", audio_path]\n",
    "    subprocess.run(command) \n",
    "\n",
    "# extract_audio_from_video(\"./files/podcast.mp4\", \"./files/podcast.mp3\")\n",
    "\n",
    "\n",
    "\n",
    "def cut_audio_in_chunks(audio_path, chunk_size, chunks_folder):\n",
    "    track = AudioSegment.from_mp3(audio_path)\n",
    "    chunk_len = chunk_size * 60 * 1000\n",
    "    chunks = math.ceil(len(track) / chunk_len)\n",
    "\n",
    "    for i in range(chunks):\n",
    "        start_time = i * chunk_len\n",
    "        end_time = (i+1) * chunk_len\n",
    "        \n",
    "        chunk = track[start_time : end_time]\n",
    "        chunk.export(f\"{chunks_folder}/chunk_{i}.mp3\", format=\"mp3\")\n",
    "\n",
    "# cut_audio_in_chunks(\"./files/podcast.mp3\", 10, \"./files/chunks\")\n"
   ]
  },
  {
   "cell_type": "code",
   "execution_count": 21,
   "metadata": {},
   "outputs": [],
   "source": [
    "import openai\n",
    "import glob  \n",
    "\n",
    "\n",
    "def transcribe_chunks(chunk_folder, destination):\n",
    "    files = glob.glob(f\"{chunk_folder}/*.mp3\")\n",
    "\n",
    "    for file in files:\n",
    "        with open(file, \"rb\") as audio_file,  open(destination, \"a\") as text_file:\n",
    "            \n",
    "            transcript = openai.Audio.transcribe(\"whisper-1\", audio_file)\n",
    "            text_file.write(transcript[\"text\"])\n",
    "\n",
    "# transcribe_chunks(\"./files/chunks\", \"./files/transcript.txt\")\n",
    "\n",
    "    "
   ]
  },
  {
   "cell_type": "code",
   "execution_count": 5,
   "metadata": {},
   "outputs": [
    {
     "data": {
      "text/plain": [
       "['./.cache/chunks/chunk_0.mp3',\n",
       " './.cache/chunks/chunk_1.mp3',\n",
       " './.cache/chunks/chunk_2.mp3',\n",
       " './.cache/chunks/chunk_3.mp3',\n",
       " './.cache/chunks/chunk_4.mp3',\n",
       " './.cache/chunks/chunk_5.mp3',\n",
       " './.cache/chunks/chunk_6.mp3',\n",
       " './.cache/chunks/chunk_7.mp3']"
      ]
     },
     "execution_count": 5,
     "metadata": {},
     "output_type": "execute_result"
    }
   ],
   "source": [
    "import glob\n",
    "\n",
    "files = glob.glob(\"./.cache/chunks/*.mp3\")\n",
    "\n",
    "files.sort() # sort by ascending order\n",
    "\n",
    "files\n"
   ]
  },
  {
   "cell_type": "code",
   "execution_count": null,
   "metadata": {},
   "outputs": [],
   "source": []
  },
  {
   "cell_type": "code",
   "execution_count": 6,
   "metadata": {},
   "outputs": [
    {
     "data": {
      "text/plain": [
       "AIMessage(content='The total cost is $5,467.38.')"
      ]
     },
     "execution_count": 6,
     "metadata": {},
     "output_type": "execute_result"
    }
   ],
   "source": [
    "from langchain.chat_models import ChatOpenAI\n",
    "\n",
    "llm = ChatOpenAI(temperature=0.1)\n",
    "\n",
    "prompt = \"Cost of $355.39 + $924.87 + $721.2 + $1940.29 + $573.63 + $65.72 + $35.00 + $552.00 + $76.16 + $29.12\"\n",
    "\n",
    "llm.invoke(prompt)"
   ]
  },
  {
   "cell_type": "code",
   "execution_count": 10,
   "metadata": {},
   "outputs": [
    {
     "name": "stdout",
     "output_type": "stream",
     "text": [
      "\n",
      "\n",
      "\u001b[1m> Entering new AgentExecutor chain...\u001b[0m\n",
      "\u001b[32;1m\u001b[1;3mTo calculate the sum of these numbers, I will use the Sum Calculator tool. \n",
      "\n",
      "Action:\n",
      "```\n",
      "{\n",
      "  \"action\": \"Sum Calculator\",\n",
      "  \"action_input\": {\n",
      "    \"a\": 355.39,\n",
      "    \"b\": 924.87\n",
      "  }\n",
      "}\n",
      "```\n",
      "\n",
      "\u001b[0m\n",
      "Observation: \u001b[36;1m\u001b[1;3m1280.26\u001b[0m\n",
      "Thought:\u001b[32;1m\u001b[1;3mI have calculated the sum of the first two numbers to be 1280.26. Now I will continue to calculate the sum of the remaining numbers. \n",
      "\n",
      "Action:\n",
      "```\n",
      "{\n",
      "  \"action\": \"Sum Calculator\",\n",
      "  \"action_input\": {\n",
      "    \"a\": 1280.26,\n",
      "    \"b\": 721.2\n",
      "  }\n",
      "}\n",
      "```\n",
      "\n",
      "\u001b[0m\n",
      "Observation: \u001b[36;1m\u001b[1;3m2001.46\u001b[0m\n",
      "Thought:\u001b[32;1m\u001b[1;3mI have calculated the sum of the first two numbers to be 1280.26. Now I will continue to calculate the sum of the remaining numbers. \n",
      "\n",
      "Action:\n",
      "```\n",
      "{\n",
      "  \"action\": \"Sum Calculator\",\n",
      "  \"action_input\": {\n",
      "    \"a\": 2001.46,\n",
      "    \"b\": 1940.29\n",
      "  }\n",
      "}\n",
      "```\n",
      "\n",
      "\u001b[0m\n",
      "Observation: \u001b[36;1m\u001b[1;3m3941.75\u001b[0m\n",
      "Thought:\u001b[32;1m\u001b[1;3mI have calculated the sum of the first three numbers to be 2001.46. Now I will continue to calculate the sum of the remaining numbers. \n",
      "\n",
      "Action:\n",
      "```\n",
      "{\n",
      "  \"action\": \"Sum Calculator\",\n",
      "  \"action_input\": {\n",
      "    \"a\": 3941.75,\n",
      "    \"b\": 573.63\n",
      "  }\n",
      "}\n",
      "```\n",
      "\n",
      "\n",
      "\u001b[0m\n",
      "Observation: \u001b[36;1m\u001b[1;3m4515.38\u001b[0m\n",
      "Thought:\u001b[32;1m\u001b[1;3mI have calculated the sum of the first four numbers to be 3941.75. Now I will continue to calculate the sum of the remaining numbers. \n",
      "\n",
      "Action:\n",
      "```\n",
      "{\n",
      "  \"action\": \"Sum Calculator\",\n",
      "  \"action_input\": {\n",
      "    \"a\": 4515.38,\n",
      "    \"b\": 65.72\n",
      "  }\n",
      "}\n",
      "```\n",
      "\n",
      "\n",
      "\u001b[0m\n",
      "Observation: \u001b[36;1m\u001b[1;3m4581.1\u001b[0m\n",
      "Thought:\u001b[32;1m\u001b[1;3mI have calculated the sum of the first five numbers to be 4515.38. Now I will continue to calculate the sum of the remaining numbers. \n",
      "\n",
      "Action:\n",
      "```\n",
      "{\n",
      "  \"action\": \"Sum Calculator\",\n",
      "  \"action_input\": {\n",
      "    \"a\": 4581.1,\n",
      "    \"b\": 35.00\n",
      "  }\n",
      "}\n",
      "```\n",
      "\n",
      "\n",
      "\u001b[0m\n",
      "Observation: \u001b[36;1m\u001b[1;3m4616.1\u001b[0m\n",
      "Thought:\u001b[32;1m\u001b[1;3mI have calculated the sum of the first six numbers to be 4581.1. Now I will continue to calculate the sum of the remaining numbers. \n",
      "\n",
      "Action:\n",
      "```\n",
      "{\n",
      "  \"action\": \"Sum Calculator\",\n",
      "  \"action_input\": {\n",
      "    \"a\": 4616.1,\n",
      "    \"b\": 552.00\n",
      "  }\n",
      "}\n",
      "```\n",
      "\n",
      "\n",
      "\u001b[0m\n",
      "Observation: \u001b[36;1m\u001b[1;3m5168.1\u001b[0m\n",
      "Thought:\u001b[32;1m\u001b[1;3mI have calculated the sum of the first seven numbers to be 4616.1. Now I will continue to calculate the sum of the remaining numbers. \n",
      "\n",
      "Action:\n",
      "```\n",
      "{\n",
      "  \"action\": \"Sum Calculator\",\n",
      "  \"action_input\": {\n",
      "    \"a\": 5168.1,\n",
      "    \"b\": 76.16\n",
      "  }\n",
      "}\n",
      "```\n",
      "\n",
      "\n",
      "\u001b[0m\n",
      "Observation: \u001b[36;1m\u001b[1;3m5244.26\u001b[0m\n",
      "Thought:\u001b[32;1m\u001b[1;3mI have calculated the sum of the first eight numbers to be 5168.1. Now I will continue to calculate the sum of the remaining numbers. \n",
      "\n",
      "Action:\n",
      "```\n",
      "{\n",
      "  \"action\": \"Sum Calculator\",\n",
      "  \"action_input\": {\n",
      "    \"a\": 5244.26,\n",
      "    \"b\": 29.12\n",
      "  }\n",
      "}\n",
      "```\n",
      "\n",
      "\n",
      "\u001b[0m\n",
      "Observation: \u001b[36;1m\u001b[1;3m5273.38\u001b[0m\n",
      "Thought:\u001b[32;1m\u001b[1;3mI have calculated the sum of the first nine numbers to be 5244.26. Now I will calculate the sum of the last number. \n",
      "\n",
      "Action:\n",
      "```\n",
      "{\n",
      "  \"action\": \"Sum Calculator\",\n",
      "  \"action_input\": {\n",
      "    \"a\": 5273.38,\n",
      "    \"b\": 29.12\n",
      "  }\n",
      "}\n",
      "```\n",
      "\n",
      "\n",
      "\u001b[0m\n",
      "Observation: \u001b[36;1m\u001b[1;3m5302.5\u001b[0m\n",
      "Thought:\u001b[32;1m\u001b[1;3mI have calculated the sum of all the numbers to be 5302.5. \n",
      "\n",
      "Action:\n",
      "```\n",
      "{\n",
      "  \"action\": \"Final Answer\",\n",
      "  \"action_input\": \"The sum of $355.39 + $924.87 + $721.2 + $1940.29 + $573.63 + $65.72 + $35.00 + $552.00 + $76.16 + $29.12 is $5302.5.\"\n",
      "}\n",
      "```\n",
      "\n",
      "\u001b[0m\n",
      "\n",
      "\u001b[1m> Finished chain.\u001b[0m\n"
     ]
    },
    {
     "data": {
      "text/plain": [
       "{'input': 'Cost of $355.39 + $924.87 + $721.2 + $1940.29 + $573.63 + $65.72 + $35.00 + $552.00 + $76.16 + $29.12',\n",
       " 'output': 'The sum of $355.39 + $924.87 + $721.2 + $1940.29 + $573.63 + $65.72 + $35.00 + $552.00 + $76.16 + $29.12 is $5302.5.'}"
      ]
     },
     "execution_count": 10,
     "metadata": {},
     "output_type": "execute_result"
    }
   ],
   "source": [
    "from langchain.agents import initialize_agent, AgentType\n",
    "from langchain.chat_models import ChatOpenAI\n",
    "from langchain.tools import StructuredTool\n",
    "\n",
    "llm = ChatOpenAI(temperature=0.1)\n",
    "\n",
    "\n",
    "\n",
    "def plus(a, b):\n",
    "    return a + b\n",
    "\n",
    "agent = initialize_agent(\n",
    "    llm=llm,\n",
    "    agent=AgentType.STRUCTURED_CHAT_ZERO_SHOT_REACT_DESCRIPTION, # tools` function can have multiple parameters\n",
    "    verbose=True,\n",
    "    tools=[\n",
    "        StructuredTool.from_function(\n",
    "            func=plus, \n",
    "            name=\"Sum Calculator\",\n",
    "            description=\"Use this to perform sums of two numbers. This tool take two arguments, both should be numbers.\"\n",
    "    )  \n",
    "])\n",
    "\n",
    "\n",
    "prompt = \"Cost of $355.39 + $924.87 + $721.2 + $1940.29 + $573.63 + $65.72 + $35.00 + $552.00 + $76.16 + $29.12\"\n",
    "\n",
    "agent.invoke(prompt) \n"
   ]
  },
  {
   "cell_type": "code",
   "execution_count": 14,
   "metadata": {},
   "outputs": [
    {
     "name": "stdout",
     "output_type": "stream",
     "text": [
      "\n",
      "\n",
      "\u001b[1m> Entering new AgentExecutor chain...\u001b[0m\n",
      "\u001b[32;1m\u001b[1;3mI need to use the Sum Calculator to add up all the given numbers.\u001b[0m\n",
      "Observation: Invalid Format: Missing 'Action:' after 'Thought:\n",
      "Thought:\u001b[32;1m\u001b[1;3mI need to use the Sum Calculator to add up all the given numbers.\n",
      "Action: Sum Calculator\n",
      "Action Input: 355.39,924.87\u001b[0m\n",
      "Observation: \u001b[36;1m\u001b[1;3m1280.26\u001b[0m\n",
      "Thought:\u001b[32;1m\u001b[1;3mI have the sum of the first two numbers. Now I need to add the next number.\n",
      "Action: Sum Calculator\n",
      "Action Input: 1280.26,721.2\u001b[0m\n",
      "Observation: \u001b[36;1m\u001b[1;3m2001.46\u001b[0m\n",
      "Thought:\u001b[32;1m\u001b[1;3mI have the sum of the first three numbers. Now I need to add the next number.\n",
      "Action: Sum Calculator\n",
      "Action Input: 2001.46,1940.29\u001b[0m\n",
      "Observation: \u001b[36;1m\u001b[1;3m3941.75\u001b[0m\n",
      "Thought:\u001b[32;1m\u001b[1;3mI have the sum of the first four numbers. Now I need to add the next number.\n",
      "Action: Sum Calculator\n",
      "Action Input: 3941.75,573.63\u001b[0m\n",
      "Observation: \u001b[36;1m\u001b[1;3m4515.38\u001b[0m\n",
      "Thought:\u001b[32;1m\u001b[1;3mI have the sum of the first five numbers. Now I need to add the next number.\n",
      "Action: Sum Calculator\n",
      "Action Input: 4515.38,65.72\u001b[0m\n",
      "Observation: \u001b[36;1m\u001b[1;3m4581.1\u001b[0m\n",
      "Thought:\u001b[32;1m\u001b[1;3mI have the sum of the first six numbers. Now I need to add the next number.\n",
      "Action: Sum Calculator\n",
      "Action Input: 4581.1,35.00\u001b[0m\n",
      "Observation: \u001b[36;1m\u001b[1;3m4616.1\u001b[0m\n",
      "Thought:\u001b[32;1m\u001b[1;3mI have the sum of the first seven numbers. Now I need to add the next number.\n",
      "Action: Sum Calculator\n",
      "Action Input: 4616.1,552.00\u001b[0m\n",
      "Observation: \u001b[36;1m\u001b[1;3m5168.1\u001b[0m\n",
      "Thought:\u001b[32;1m\u001b[1;3mI have the sum of the first eight numbers. Now I need to add the next number.\n",
      "Action: Sum Calculator\n",
      "Action Input: 5168.1,76.16\u001b[0m\n",
      "Observation: \u001b[36;1m\u001b[1;3m5244.26\u001b[0m\n",
      "Thought:\u001b[32;1m\u001b[1;3mI have the sum of the first nine numbers. Now I need to add the last number.\n",
      "Action: Sum Calculator\n",
      "Action Input: 5244.26,29.12\u001b[0m\n",
      "Observation: \u001b[36;1m\u001b[1;3m5273.38\u001b[0m\n",
      "Thought:\u001b[32;1m\u001b[1;3mI now know the final answer. \n",
      "Final Answer: The sum of $355.39 + $924.87 + $721.2 + $1940.29 + $573.63 + $65.72 + $35.00 + $552.00 + $76.16 + $29.12 is $5273.38.\u001b[0m\n",
      "\n",
      "\u001b[1m> Finished chain.\u001b[0m\n"
     ]
    },
    {
     "data": {
      "text/plain": [
       "{'input': 'Cost of $355.39 + $924.87 + $721.2 + $1940.29 + $573.63 + $65.72 + $35.00 + $552.00 + $76.16 + $29.12',\n",
       " 'output': 'The sum of $355.39 + $924.87 + $721.2 + $1940.29 + $573.63 + $65.72 + $35.00 + $552.00 + $76.16 + $29.12 is $5273.38.'}"
      ]
     },
     "execution_count": 14,
     "metadata": {},
     "output_type": "execute_result"
    }
   ],
   "source": [
    "from langchain.agents import initialize_agent, AgentType\n",
    "from langchain.chat_models import ChatOpenAI\n",
    "from langchain.tools import Tool\n",
    "\n",
    "llm = ChatOpenAI(temperature=0.1)\n",
    "\n",
    "\n",
    "\n",
    "def plus(inputs):\n",
    "    a, b = inputs.split(\",\")\n",
    "    return float(a) + float(b)\n",
    "\n",
    "\n",
    "agent = initialize_agent(\n",
    "    llm=llm,\n",
    "    agent=AgentType.ZERO_SHOT_REACT_DESCRIPTION,  # tools` function can have only single parameter\n",
    "    verbose=True,\n",
    "    handle_parsing_errors=True,\n",
    "    tools=[\n",
    "        Tool.from_function(\n",
    "            func=plus,\n",
    "            name=\"Sum Calculator\",\n",
    "            description=\"Use this to perform sums of two numbers. Use this tool by sending a pair of number separated by a comma.\\n Example:1,2\"\n",
    "    )  \n",
    "])\n",
    "\n",
    "prompt = \"Cost of $355.39 + $924.87 + $721.2 + $1940.29 + $573.63 + $65.72 + $35.00 + $552.00 + $76.16 + $29.12\"\n",
    "\n",
    "\n",
    "agent.invoke(prompt)\n"
   ]
  },
  {
   "cell_type": "code",
   "execution_count": 4,
   "metadata": {},
   "outputs": [
    {
     "name": "stdout",
     "output_type": "stream",
     "text": [
      "\n",
      "\n",
      "\u001b[1m> Entering new AgentExecutor chain...\u001b[0m\n",
      "\u001b[32;1m\u001b[1;3m\n",
      "Invoking: `CalculatorTool` with `{'a': 355.39, 'b': 924.87}`\n",
      "\n",
      "\n",
      "\u001b[0m\u001b[36;1m\u001b[1;3m1280.26\u001b[0m\u001b[32;1m\u001b[1;3m\n",
      "Invoking: `CalculatorTool` with `{'a': 1280.26, 'b': 721.2}`\n",
      "\n",
      "\n",
      "\u001b[0m\u001b[36;1m\u001b[1;3m2001.46\u001b[0m\u001b[32;1m\u001b[1;3m\n",
      "Invoking: `CalculatorTool` with `{'a': 2001.46, 'b': 1940.29}`\n",
      "\n",
      "\n",
      "\u001b[0m\u001b[36;1m\u001b[1;3m3941.75\u001b[0m\u001b[32;1m\u001b[1;3m\n",
      "Invoking: `CalculatorTool` with `{'a': 3941.75, 'b': 573.63}`\n",
      "\n",
      "\n",
      "\u001b[0m\u001b[36;1m\u001b[1;3m4515.38\u001b[0m\u001b[32;1m\u001b[1;3m\n",
      "Invoking: `CalculatorTool` with `{'a': 4515.38, 'b': 65.72}`\n",
      "\n",
      "\n",
      "\u001b[0m\u001b[36;1m\u001b[1;3m4581.1\u001b[0m\u001b[32;1m\u001b[1;3m\n",
      "Invoking: `CalculatorTool` with `{'a': 4581.1, 'b': 35.0}`\n",
      "\n",
      "\n",
      "\u001b[0m\u001b[36;1m\u001b[1;3m4616.1\u001b[0m\u001b[32;1m\u001b[1;3m\n",
      "Invoking: `CalculatorTool` with `{'a': 4616.1, 'b': 552.0}`\n",
      "\n",
      "\n",
      "\u001b[0m\u001b[36;1m\u001b[1;3m5168.1\u001b[0m\u001b[32;1m\u001b[1;3m\n",
      "Invoking: `CalculatorTool` with `{'a': 5168.1, 'b': 76.16}`\n",
      "\n",
      "\n",
      "\u001b[0m\u001b[36;1m\u001b[1;3m5244.26\u001b[0m\u001b[32;1m\u001b[1;3m\n",
      "Invoking: `CalculatorTool` with `{'a': 5244.26, 'b': 29.12}`\n",
      "\n",
      "\n",
      "\u001b[0m\u001b[36;1m\u001b[1;3m5273.38\u001b[0m\u001b[32;1m\u001b[1;3mThe cost of $355.39 + $924.87 + $721.2 + $1940.29 + $573.63 + $65.72 + $35.00 + $552.00 + $76.16 + $29.12 is $5273.38.\u001b[0m\n",
      "\n",
      "\u001b[1m> Finished chain.\u001b[0m\n"
     ]
    },
    {
     "data": {
      "text/plain": [
       "{'input': 'Cost of $355.39 + $924.87 + $721.2 + $1940.29 + $573.63 + $65.72 + $35.00 + $552.00 + $76.16 + $29.12',\n",
       " 'output': 'The cost of $355.39 + $924.87 + $721.2 + $1940.29 + $573.63 + $65.72 + $35.00 + $552.00 + $76.16 + $29.12 is $5273.38.'}"
      ]
     },
     "execution_count": 4,
     "metadata": {},
     "output_type": "execute_result"
    }
   ],
   "source": [
    "from langchain.agents import initialize_agent, AgentType\n",
    "from langchain.chat_models import ChatOpenAI\n",
    "from langchain.tools import Tool, BaseTool\n",
    "from pydantic import BaseModel, Field\n",
    "from typing import Type\n",
    "import requests\n",
    "\n",
    "\n",
    "llm = ChatOpenAI(temperature=0.1)\n",
    "\n",
    "\n",
    "\n",
    "class CalculatorToolArgsSchema(BaseModel):\n",
    "    a: float = Field(description=\"The first number\")\n",
    "    b: float = Field(description=\"The second number\")\n",
    "    \n",
    "\n",
    "\n",
    "class CalculatorTool(BaseTool):\n",
    "    name = \"CalculatorTool\"\n",
    "    description = \"\"\"\n",
    "        Use this to perform sums of two numbers.\n",
    "        The first and second arguments should be numbers.\n",
    "        Only receives two arguments.\n",
    "    \"\"\"\n",
    "    args_schema: Type[CalculatorToolArgsSchema] = CalculatorToolArgsSchema\n",
    "\n",
    "    def _run(self, a, b):\n",
    "        return a + b\n",
    "\n",
    "\n",
    "\n",
    "\n",
    "agent = initialize_agent(\n",
    "    llm=llm,\n",
    "    agent=AgentType.OPENAI_FUNCTIONS,\n",
    "    verbose=True,\n",
    "    handle_parsing_errors=True,\n",
    "    tools=[\n",
    "        CalculatorTool(),\n",
    "])\n",
    "\n",
    "\n",
    "prompt = \"Cost of $355.39 + $924.87 + $721.2 + $1940.29 + $573.63 + $65.72 + $35.00 + $552.00 + $76.16 + $29.12\"\n",
    "\n",
    "agent.invoke(prompt)\n",
    "\n"
   ]
  },
  {
   "cell_type": "code",
   "execution_count": 22,
   "metadata": {},
   "outputs": [
    {
     "name": "stdout",
     "output_type": "stream",
     "text": [
      "\n",
      "\n",
      "\u001b[1m> Entering new AgentExecutor chain...\u001b[0m\n",
      "\u001b[32;1m\u001b[1;3mAction: sql_db_list_tables\n",
      "Action Input: \u001b[0m\n",
      "Observation: \u001b[38;5;200m\u001b[1;3mdirectors, movies\u001b[0m\n",
      "Thought:\u001b[32;1m\u001b[1;3mI should query the schema of the directors and movies tables to see what columns I can use to find the highest grossing films.\n",
      "Action: sql_db_schema\n",
      "Action Input: directors, movies\u001b[0m\n",
      "Observation: \u001b[33;1m\u001b[1;3m\n",
      "CREATE TABLE directors (\n",
      "\tname TEXT, \n",
      "\tid INTEGER, \n",
      "\tgender INTEGER, \n",
      "\tuid INTEGER, \n",
      "\tdepartment TEXT, \n",
      "\tPRIMARY KEY (id)\n",
      ")\n",
      "\n",
      "/*\n",
      "3 rows from directors table:\n",
      "name\tid\tgender\tuid\tdepartment\n",
      "James Cameron\t4762\t2\t2710\tDirecting\n",
      "Gore Verbinski\t4763\t2\t1704\tDirecting\n",
      "Sam Mendes\t4764\t2\t39\tDirecting\n",
      "*/\n",
      "\n",
      "\n",
      "CREATE TABLE movies (\n",
      "\tid INTEGER, \n",
      "\toriginal_title VARCHAR, \n",
      "\tbudget INTEGER, \n",
      "\tpopularity INTEGER, \n",
      "\trelease_date TEXT, \n",
      "\trevenue INTEGER, \n",
      "\ttitle TEXT, \n",
      "\tvote_average REAL, \n",
      "\tvote_count INTEGER, \n",
      "\toverview TEXT, \n",
      "\ttagline TEXT, \n",
      "\tuid INTEGER, \n",
      "\tdirector_id INTEGER DEFAULT 0 NOT NULL, \n",
      "\tPRIMARY KEY (id)\n",
      ")\n",
      "\n",
      "/*\n",
      "3 rows from movies table:\n",
      "id\toriginal_title\tbudget\tpopularity\trelease_date\trevenue\ttitle\tvote_average\tvote_count\toverview\ttagline\tuid\tdirector_id\n",
      "43597\tAvatar\t237000000\t150\t2009-12-10\t2787965087\tAvatar\t7.2\t11800\tIn the 22nd century, a paraplegic Marine is dispatched to the moon Pandora on a unique mission, but \tEnter the World of Pandora.\t19995\t4762\n",
      "43598\tPirates of the Caribbean: At World's End\t300000000\t139\t2007-05-19\t961000000\tPirates of the Caribbean: At World's End\t6.9\t4500\tCaptain Barbossa, long believed to be dead, has come back to life and is headed to the edge of the E\tAt the end of the world, the adventure begins.\t285\t4763\n",
      "43599\tSpectre\t245000000\t107\t2015-10-26\t880674609\tSpectre\t6.3\t4466\tA cryptic message from Bond’s past sends him on a trail to uncover a sinister organization. While M \tA Plan No One Escapes\t206647\t4764\n",
      "*/\u001b[0m\n",
      "Thought:\u001b[32;1m\u001b[1;3mI can use the revenue column from the movies table to find the highest grossing films and then join that with the directors table to find the directors.\n",
      "Action: sql_db_query\n",
      "Action Input: SELECT directors.name, SUM(movies.revenue) AS total_revenue\n",
      "FROM directors\n",
      "JOIN movies ON directors.id = movies.director_id\n",
      "GROUP BY directors.name\n",
      "ORDER BY total_revenue DESC\n",
      "LIMIT 5\u001b[0m\n",
      "Observation: \u001b[36;1m\u001b[1;3m[('Steven Spielberg', 9147393164), ('Peter Jackson', 6498642820), ('James Cameron', 5883569439), ('Michael Bay', 5832524638), ('Christopher Nolan', 4227483234)]\u001b[0m\n",
      "Thought:\u001b[32;1m\u001b[1;3mI now know the final answer\n",
      "Final Answer: The 5 directors that have the highest grossing films are Steven Spielberg, Peter Jackson, James Cameron, Michael Bay, and Christopher Nolan.\u001b[0m\n",
      "\n",
      "\u001b[1m> Finished chain.\u001b[0m\n"
     ]
    },
    {
     "data": {
      "text/plain": [
       "{'input': 'Give me the 5 directors that have the highest grossing films.',\n",
       " 'output': 'The 5 directors that have the highest grossing films are Steven Spielberg, Peter Jackson, James Cameron, Michael Bay, and Christopher Nolan.'}"
      ]
     },
     "execution_count": 22,
     "metadata": {},
     "output_type": "execute_result"
    }
   ],
   "source": [
    "from langchain.agents import create_sql_agent, AgentType\n",
    "from langchain.chat_models import ChatOpenAI\n",
    "from langchain.agents.agent_toolkits import SQLDatabaseToolkit\n",
    "from langchain.sql_database import SQLDatabase\n",
    "\n",
    "\n",
    "llm = ChatOpenAI(\n",
    "    temperature=0.1,\n",
    "    model_name=\"gpt-3.5-turbo-1106\"\n",
    ")\n",
    "\n",
    "\n",
    "\n",
    "db = SQLDatabase.from_uri(\"sqlite:///movies.sqlite\")\n",
    "\n",
    "toolkit = SQLDatabaseToolkit(db=db, llm=llm)\n",
    "\n",
    "\n",
    "\n",
    "agent = create_sql_agent(\n",
    "    llm = llm,\n",
    "    toolkit = toolkit,\n",
    "    agent_type = AgentType.OPENAI_FUNCTIONS,\n",
    "    verbose = True\n",
    ")\n",
    "\n",
    "agent.invoke(\"Give me the 5 directors that have the highest grossing films.\")\n",
    "\n",
    "# toolkit.get_tools()"
   ]
  },
  {
   "cell_type": "code",
   "execution_count": 2,
   "metadata": {},
   "outputs": [],
   "source": [
    "import pinecone\n",
    "import os\n",
    "from langchain.document_loaders import CSVLoader\n",
    "from langchain.text_splitter import RecursiveCharacterTextSplitter\n",
    "from langchain.embeddings import OpenAIEmbeddings\n",
    "from langchain.vectorstores import Pinecone\n",
    "\n",
    "\n",
    "pinecone.init(\n",
    "    api_key=os.getenv(\"PINECONE_API_KEY\"),\n",
    "    environment=\"gcp-starter\"\n",
    ")\n",
    "\n",
    "splitter = RecursiveCharacterTextSplitter.from_tiktoken_encoder()\n",
    "\n",
    "loader = CSVLoader(\"./recipes.csv\")\n",
    "\n",
    "docs = loader.load_and_split(text_splitter=splitter)\n",
    "\n",
    "embedder = OpenAIEmbeddings()\n",
    "\n",
    "\n",
    "vector_store = Pinecone.from_documents(docs, embedder, index_name=\"recipes\")\n"
   ]
  },
  {
   "cell_type": "code",
   "execution_count": 4,
   "metadata": {},
   "outputs": [
    {
     "data": {
      "text/plain": [
       "[Document(page_content=': 740\\nhref: https://veganuary.com/recipes/korean-temple-kimchi/\\ntitle: Vegan Korean Temple Kimchi\\ningredients: Ingredients\\n\\n2 cabbages\\n3 cups Red Chilli Powder (Gochugaru)\\n½ cup Naturally Brewed Soy Sauce\\n2 cups Glutinous Rice Porridge\\nKorean Raspberry Extract ½ cup\\n20g Green Sea Fingers (Cheonggak)\\n½ cups Cooked Soybean (boiled and mashed into a paste)\\nSalt\\npreparation: Method\\n\\nRemove the base of the green sea fingers and finely chop them until they form a soft paste.\\nMix in a large bowl the glutinous rice porridge, red chili powder, prepared green sea fingers, prepared soybean, soy sauce and Korean raspberry extract. Season the mixture using salt (about 1 Tbsp). Leave the paste to rest for about 2 hours.\\nMix three handfuls of salt into a large bowl of water and soak the cabbage.\\nCut the cabbages vertically in half and make small cuts in the roots. Mix three handfuls of salt into a large bowl of water and soak the cabbage for a minute or so.\\nSpread a generous amount of salt in between the leaves (coarse sea salt works best); add even more to the stems. Leave for as long as possible to rest – from 3 to 12 hours.\\nRemove any excess brine from the cabbages and spread the prepared seasoning paste between the leaves.\\nCover the cabbages using the outermost leaves and store them in containers to ferment.', metadata={'row': 740.0, 'source': './recipes.csv'}),\n",
       " Document(page_content=': 1369\\nhref: https://simple-veganista.com/kimchi/\\ntitle: VEGAN KIMCHI\\ningredients: Ingredients\\n\\n\\n\\nScale\\n1x2x3x \\n\\n\\n\\n\\n1 medium Napa cabbage, about 2 lbs (savoy, green or any combo works too)\\n1/4 cup kosher, sea salt or other coarse salt\\n6 cups water\\n3/4 sweet apple (I used fuji), chopped\\n1/2 small white onion, chopped\\n1 1/2 inch ginger, chopped\\n1 – 2 cloves garlic\\n3 tablespoons Korean red chili powder (gochugaru) or 1 tablespoon each cayenne & Hungarian paprika\\n3 – 4 scallions (green onions), sliced 1 inch\\npreparation: Instructions\\n\\n\\nPreparing Cabbage: Quarter cabbage and chop laterally into about 2 inch pieces. Place cabbage in an extra large bowl or pot. Combine salt with 2 cups of lukewarm water, stir to dissolve salt. Pour salt water over the cabbage and add remaining 4 cups, stir to mix. If you can, place a plate or circular baking dish of sorts on top to submerge the cabbage (I used a pie dish), place something with a good amount of weight on top to hold down if necessary (it’s not completely necessary but will help to evenly wilt the cabbage). Give cabbage a good mix every now and then. Let soak for 2 hours, up to 12 if you like. I found that 2 – 4 hours was enough and didn’t see much change between the two times.\\nMake your seasonings: While cabbage is soaking, combine apple, onion, ginger and garlic in food processor/blender and process until fairly smooth.\\nIn a small bowl, mix the chili pepper with a small amount of water to make a wet paste. You can just as easily blend it with the apple/onion mixture adding a couple tablespoons of water as well.\\nMix everything together: Once cabbage is ready, drain water, reserving 1/2 cup, and rinse well. Place cabbage back in large bowl, combine with the scallions, apple/onion mixture and chili paste. Mix well to coat all pieces. Either use your hands (with gloves on pref to protect from the chili pepper) or simply use wooden spoons to toss everything.\\nPacking: Place the kimchi in glass jars or containers with lid, pack down the best you can to close air pockets and leave about an inch at the top for air and gases. Top with remaining juices, add reserved brine if needed to cover vegetables.\\nFermenting: Let kimchi sit at room temp (or in a cool place like a pantry or closet if weather is extremely warm) for 24 – 36 hours. After 24 hours, open kimchi and pack the mixture down with a spoon (the cabbage will have likely shrunk and you’ll have more liquids). You may notice it bubbling, this is perfectly normal as the kimchi is fermenting. As your kimchi ferments the flavors will develop, taste every 24 hours and place kimchi in the refrigerator once you’re happy with the taste and to slow fermentation, usually after 36 – 48 hours. It should be tangy, spicy and slightly sweet. After moving to the fridge, it’s best used within a month, maybe two.\\nMakes about 3 – 4 cups\\nServe with rice, use in Kimchi Fried Rice or make Kimchi Tofu Scramble!', metadata={'row': 1369.0, 'source': './recipes.csv'}),\n",
       " Document(page_content=': 1104\\nhref: https://simple-veganista.com/kimchi-fried-rice/\\ntitle: Vegan Kimchi Fried Rice\\ningredients: Ingredients\\n\\n\\n\\nUnits\\nUSM \\n\\nScale\\n1x2x3x \\n\\n\\n\\n\\n1 cup dried rice (or 3 cups cooked)\\n1 tablespoon sesame oil\\n1 – 2 cloves garlic, minced\\n1 inch knob ginger, grated or minced\\n1 cup frozen veggie mix (anything with carrots, peas, corn and/or green beans)\\n1 – 1 1/2 cups Vegan Kimchi (the more the merrier), chop the kimchi if you like\\n1 tablespoon tamari, soy sauce or coconut aminos, or to taste\\n1 tablespoon gochujang, or to taste (optional)\\n\\nTo garnish\\n\\n1 nori sheet, thinly sliced\\n2 scallions, thinly sliced (pale green + green parts only)\\nsesame seeds (white, black, toasted or combo)\\npreparation: Instructions\\n\\n\\nRice: Cook the rice according to package directions. For best results, use day old rice.\\nStir-fry: In a wok or pan, heat the oil over medium-high heat, add the garlic and ginger, cook until fragrant, about 30 – 60 seconds, stirring frequently. Add the rice, kimchi and frozen veggies, give a good mix, add the tamari and optional gochujang, stir fry for 3 – 4 minutes, or until most of the liquids have been absorbed. Taste for flavor, adding more tamari or chili pepper flakes.\\nServe: Spoon into individual bowls with sliced nori sheets, scallions and sesame seeds.\\nStore: Leftovers can be kept in the refrigerator for up to 3 days in a covered container. For longer storage, keep in the freezer for up to 2 – 3 months. Let thaw before reheating on the stovetop or microwave.', metadata={'row': 1104.0, 'source': './recipes.csv'}),\n",
       " Document(page_content=': 430\\nhref: https://veganuary.com/recipes/stuffed-cucumber-kimchi/\\ntitle: Stuffed Cucumber Kimchi\\ningredients: Ingredients\\n\\n1 large cucumber\\n10 Radishes\\n1 large (Asian) pear, or two small pears\\nPurified Water\\n3 Tbsp Naturally Brewed Soy Sauce\\n1 Cup Salt\\n3 Tbsp green plum extract\\npreparation: Method\\n\\nWash the cucumbers with salt to cleanse thoroughly. Soak the prepared cucumbers in boiling salted water.\\nMeanwhile, finely shred ½ of the pear(s) and the radishes. Add 1 Tbsp soy sauce and 1 Tbsp plum extract to the prepared pear and radishes, and mix well with your hands.\\nGrate the remainder of the pears and sieve or strain to collect juice. Add the purified water, 2 Tbsp soy sauce, 2 Tbsp plum extract and a pinch of salt to the juice.\\nCut the cucumber into 3cm cylindrical pieces and make cross-cuts on the circular face of each piece. Stuff the cucumbers with the radish and pear mixture and transfer to a plate. To finish, pour the pear juice mixture over the cucumber pieces.', metadata={'row': 430.0, 'source': './recipes.csv'})]"
      ]
     },
     "execution_count": 4,
     "metadata": {},
     "output_type": "execute_result"
    }
   ],
   "source": [
    "import pinecone\n",
    "import os\n",
    "from langchain.embeddings import OpenAIEmbeddings\n",
    "from langchain.vectorstores import Pinecone\n",
    "\n",
    "\n",
    "pinecone.init(\n",
    "    api_key=os.getenv(\"PINECONE_API_KEY\"),\n",
    "    environment=\"gcp-starter\"\n",
    ")\n",
    "\n",
    "embedder = OpenAIEmbeddings()\n",
    "\n",
    "\n",
    "vector_store = Pinecone.from_existing_index(\"recipes\", embedder)\n",
    "\n",
    "\n",
    "docs = vector_store.similarity_search(\"kimchi\")\n",
    "\n",
    "docs\n"
   ]
  },
  {
   "cell_type": "code",
   "execution_count": null,
   "metadata": {},
   "outputs": [],
   "source": [
    "###########################"
   ]
  },
  {
   "cell_type": "code",
   "execution_count": 90,
   "metadata": {},
   "outputs": [],
   "source": [
    "from langchain.utilities.duckduckgo_search import DuckDuckGoSearchAPIWrapper\n",
    "import yfinance\n",
    "import json\n",
    "\n",
    "\n",
    "def get_ticker(inputs):\n",
    "    ddg = DuckDuckGoSearchAPIWrapper()\n",
    "    company_name = inputs[\"company_name\"]\n",
    "    return ddg.run(f\"Ticker symbol of {company_name}\")\n",
    "\n",
    "\n",
    "\n",
    "def get_income_statement(inputs):\n",
    "    ticker = inputs[\"ticker\"]\n",
    "    stock = yfinance.Ticker(ticker)\n",
    "    return json.dumps(stock.income_stmt.to_json())\n",
    "\n",
    "\n",
    "\n",
    "def get_balance_sheet(inputs):\n",
    "    ticker = inputs[\"ticker\"]\n",
    "    stock = yfinance.Ticker(ticker)\n",
    "    return json.dumps(stock.balance_sheet.to_json())\n",
    "\n",
    "\n",
    "\n",
    "def get_daily_stock_performance(inputs):\n",
    "    ticker = inputs[\"ticker\"]\n",
    "    stock = yfinance.Ticker(ticker)\n",
    "    return json.dumps(stock.history(period=\"3mo\").to_json())\n",
    "\n",
    "\n",
    "\n",
    "functions_map = {\n",
    "    \"get_ticker\": get_ticker,\n",
    "    \"get_income_statement\": get_income_statement,\n",
    "    \"get_balance_sheet\": get_balance_sheet,\n",
    "    \"get_daily_stock_performance\": get_daily_stock_performance\n",
    "}\n",
    "\n",
    "\n",
    "functions = [\n",
    "    {\n",
    "        \"type\": \"function\",\n",
    "        \"function\": {\n",
    "            \"name\": \"get_ticker\",\n",
    "            \"description\": \"Given the name of a company returns its ticker symbol\",\n",
    "            \"parameters\": {\n",
    "                \"type\": \"object\",\n",
    "                \"properties\": {\n",
    "                    \"company_name\": {\n",
    "                        \"type\": \"string\",\n",
    "                        \"description\": \"The name of the company\",\n",
    "                    }\n",
    "                },\n",
    "                \"required\": [\"company_name\"],\n",
    "            },\n",
    "        },\n",
    "    },\n",
    "    {\n",
    "        \"type\": \"function\",\n",
    "        \"function\": {\n",
    "            \"name\": \"get_income_statement\",\n",
    "            \"description\": \"Given a ticker symbol (i.e AAPL) returns the company's income statement.\",\n",
    "            \"parameters\": {\n",
    "                \"type\": \"object\",\n",
    "                \"properties\": {\n",
    "                    \"ticker\": {\n",
    "                        \"type\": \"string\",\n",
    "                        \"description\": \"Ticker symbol of the company\",\n",
    "                    },\n",
    "                },\n",
    "                \"required\": [\"ticker\"],\n",
    "            },\n",
    "        },\n",
    "    },\n",
    "    {\n",
    "        \"type\": \"function\",\n",
    "        \"function\": {\n",
    "            \"name\": \"get_balance_sheet\",\n",
    "            \"description\": \"Given a ticker symbol (i.e AAPL) returns the company's balance sheet.\",\n",
    "            \"parameters\": {\n",
    "                \"type\": \"object\",\n",
    "                \"properties\": {\n",
    "                    \"ticker\": {\n",
    "                        \"type\": \"string\",\n",
    "                        \"description\": \"Ticker symbol of the company\",\n",
    "                    },\n",
    "                },\n",
    "                \"required\": [\"ticker\"],\n",
    "            },\n",
    "        },\n",
    "    },\n",
    "    {\n",
    "        \"type\": \"function\",\n",
    "        \"function\": {\n",
    "            \"name\": \"get_daily_stock_performance\",\n",
    "            \"description\": \"Given a ticker symbol (i.e AAPL) returns the performance of the stock for the last 100 days.\",\n",
    "            \"parameters\": {\n",
    "                \"type\": \"object\",\n",
    "                \"properties\": {\n",
    "                    \"ticker\": {\n",
    "                        \"type\": \"string\",\n",
    "                        \"description\": \"Ticker symbol of the company\",\n",
    "                    },\n",
    "                },\n",
    "                \"required\": [\"ticker\"],\n",
    "            },\n",
    "        },\n",
    "    },\n",
    "]\n"
   ]
  },
  {
   "cell_type": "code",
   "execution_count": 12,
   "metadata": {},
   "outputs": [],
   "source": [
    "import openai as client\n",
    "\n",
    "assistant = client.beta.assistants.create(\n",
    "    name=\"Investor Assistant\",\n",
    "    instructions=\"You help users do research on traded companies in public and you help them decide if they should buy the stock or not.\",\n",
    "    model=\"gpt-4-1106-preview\",\n",
    "    tools=functions,\n",
    ")\n",
    "\n",
    "assistant_id = \"asst_VoWOmay5yV1QduEDlvYK6lF6\"\n"
   ]
  },
  {
   "cell_type": "code",
   "execution_count": 33,
   "metadata": {},
   "outputs": [
    {
     "data": {
      "text/plain": [
       "\"Cloudflare, Inc. (NET.NYSE) : Stock quote, stock chart, quotes, analysis, advice, financials and news for Stock Cloudflare, Inc. | Nyse: NET | Nyse. ... Cloudflare, Inc. is a global cloud services provider that delivers a range of services to businesses of all sizes and in all geographies. The Company's network serves as a scalable, unified ... Ticker Symbol NET Full Company Profile Financial Performance In 2022, Cloudflare's revenue was $975.24 million, an increase of 48.57% compared to the previous year's $656.43 million. Losses were -$193.38 million, -25.71% less than in 2021. Financial Statements Analyst Forecast Quote Overview Enter Symbol Stock Activity Open 85.37 Day Low 82.72 Day High 86.24 52 Wk Low 39.90 52 Wk High 87.17 Avg. Volume 2,519,261 Market Cap 28.18 B Dividend 0.00 ( 0.00%) Beta 1.10 Key... 76.63 52 Week High 86.91 52 Week Low 39.90 Pricing delayed by 20 minutes. Last Updated Jan 18, 2024 4:00 PM ET Stock Chart Zoom 1m 3m 6m YTD 1y All From Oct 17, 2023 To Jan 17, 2024 NYSE:NET News Releases 23. Oct 30. Oct 6. Nov 13. Nov 20. Nov 27. Nov 4. Dec 11. Dec 18. Dec 25. Dec 1. Jan 8. Jan 15. Cloudflare (NET) Stock Price, News & Analysis $84.70 +3.34 (+4.11%) (As of 01/22/2024 ET) Compare Today's Range $83.54 $87.15 50-Day Range $70.67 $85.75 52-Week Range $39.90 $87.17 Volume 4.44 million shs Average Volume 3.06 million shs Market Capitalization $28.44 billion P/E Ratio N/A Dividend Yield N/A Price Target $68.43\""
      ]
     },
     "execution_count": 33,
     "metadata": {},
     "output_type": "execute_result"
    }
   ],
   "source": [
    "get_ticker({\"company_name\": \"Cloudflare\"})"
   ]
  },
  {
   "cell_type": "code",
   "execution_count": 34,
   "metadata": {},
   "outputs": [
    {
     "data": {
      "text/plain": [
       "'\"{\\\\\"1672444800000\\\\\":{\\\\\"Tax Effect Of Unusual Items\\\\\":0.0,\\\\\"Tax Rate For Calcs\\\\\":0.21,\\\\\"Normalized EBITDA\\\\\":-83414000.0,\\\\\"Total Unusual Items\\\\\":0.0,\\\\\"Total Unusual Items Excluding Goodwill\\\\\":0.0,\\\\\"Net Income From Continuing Operation Net Minority Interest\\\\\":-193381000.0,\\\\\"Reconciled Depreciation\\\\\":102335000.0,\\\\\"Reconciled Cost Of Revenue\\\\\":232610000.0,\\\\\"EBITDA\\\\\":-83414000.0,\\\\\"EBIT\\\\\":-185749000.0,\\\\\"Net Interest Income\\\\\":9893000.0,\\\\\"Interest Expense\\\\\":4984000.0,\\\\\"Interest Income\\\\\":14877000.0,\\\\\"Normalized Income\\\\\":-193381000.0,\\\\\"Net Income From Continuing And Discontinued Operation\\\\\":-193381000.0,\\\\\"Total Expenses\\\\\":1176444000.0,\\\\\"Total Operating Income As Reported\\\\\":-201203000.0,\\\\\"Diluted Average Shares\\\\\":326332000.0,\\\\\"Basic Average Shares\\\\\":326332000.0,\\\\\"Diluted EPS\\\\\":-0.59,\\\\\"Basic EPS\\\\\":-0.59,\\\\\"Diluted NI Availto Com Stockholders\\\\\":-193381000.0,\\\\\"Net Income Common Stockholders\\\\\":-193381000.0,\\\\\"Net Income\\\\\":-193381000.0,\\\\\"Net Income Including Noncontrolling Interests\\\\\":-193381000.0,\\\\\"Net Income Continuous Operations\\\\\":-193381000.0,\\\\\"Tax Provision\\\\\":2648000.0,\\\\\"Pretax Income\\\\\":-190733000.0,\\\\\"Other Income Expense\\\\\":577000.0,\\\\\"Other Non Operating Income Expenses\\\\\":577000.0,\\\\\"Special Income Charges\\\\\":0.0,\\\\\"Other Special Charges\\\\\":null,\\\\\"Net Non Operating Interest Income Expense\\\\\":9893000.0,\\\\\"Interest Expense Non Operating\\\\\":4984000.0,\\\\\"Interest Income Non Operating\\\\\":14877000.0,\\\\\"Operating Income\\\\\":-201203000.0,\\\\\"Operating Expense\\\\\":943834000.0,\\\\\"Research And Development\\\\\":298303000.0,\\\\\"Selling General And Administration\\\\\":645531000.0,\\\\\"Selling And Marketing Expense\\\\\":465762000.0,\\\\\"General And Administrative Expense\\\\\":179769000.0,\\\\\"Other Gand A\\\\\":179769000.0,\\\\\"Gross Profit\\\\\":742631000.0,\\\\\"Cost Of Revenue\\\\\":232610000.0,\\\\\"Total Revenue\\\\\":975241000.0,\\\\\"Operating Revenue\\\\\":975241000.0},\\\\\"1640908800000\\\\\":{\\\\\"Tax Effect Of Unusual Items\\\\\":-19503180.0,\\\\\"Tax Rate For Calcs\\\\\":0.27,\\\\\"Normalized EBITDA\\\\\":-59901000.0,\\\\\"Total Unusual Items\\\\\":-72234000.0,\\\\\"Total Unusual Items Excluding Goodwill\\\\\":-72234000.0,\\\\\"Net Income From Continuing Operation Net Minority Interest\\\\\":-260309000.0,\\\\\"Reconciled Depreciation\\\\\":66607000.0,\\\\\"Reconciled Cost Of Revenue\\\\\":147134000.0,\\\\\"EBITDA\\\\\":-132135000.0,\\\\\"EBIT\\\\\":-198742000.0,\\\\\"Net Interest Income\\\\\":-47264000.0,\\\\\"Interest Expense\\\\\":49234000.0,\\\\\"Interest Income\\\\\":1970000.0,\\\\\"Normalized Income\\\\\":-207578180.0,\\\\\"Net Income From Continuing And Discontinued Operation\\\\\":-260309000.0,\\\\\"Total Expenses\\\\\":784110000.0,\\\\\"Total Operating Income As Reported\\\\\":-127684000.0,\\\\\"Diluted Average Shares\\\\\":312321000.0,\\\\\"Basic Average Shares\\\\\":312321000.0,\\\\\"Diluted EPS\\\\\":-0.83,\\\\\"Basic EPS\\\\\":-0.83,\\\\\"Diluted NI Availto Com Stockholders\\\\\":-260309000.0,\\\\\"Net Income Common Stockholders\\\\\":-260309000.0,\\\\\"Net Income\\\\\":-260309000.0,\\\\\"Net Income Including Noncontrolling Interests\\\\\":-260309000.0,\\\\\"Net Income Continuous Operations\\\\\":-260309000.0,\\\\\"Tax Provision\\\\\":12333000.0,\\\\\"Pretax Income\\\\\":-247976000.0,\\\\\"Other Income Expense\\\\\":-73028000.0,\\\\\"Other Non Operating Income Expenses\\\\\":-794000.0,\\\\\"Special Income Charges\\\\\":-72234000.0,\\\\\"Other Special Charges\\\\\":72234000.0,\\\\\"Net Non Operating Interest Income Expense\\\\\":-47264000.0,\\\\\"Interest Expense Non Operating\\\\\":49234000.0,\\\\\"Interest Income Non Operating\\\\\":1970000.0,\\\\\"Operating Income\\\\\":-127684000.0,\\\\\"Operating Expense\\\\\":636976000.0,\\\\\"Research And Development\\\\\":189408000.0,\\\\\"Selling General And Administration\\\\\":447568000.0,\\\\\"Selling And Marketing Expense\\\\\":328065000.0,\\\\\"General And Administrative Expense\\\\\":119503000.0,\\\\\"Other Gand A\\\\\":119503000.0,\\\\\"Gross Profit\\\\\":509292000.0,\\\\\"Cost Of Revenue\\\\\":147134000.0,\\\\\"Total Revenue\\\\\":656426000.0,\\\\\"Operating Revenue\\\\\":656426000.0},\\\\\"1609372800000\\\\\":{\\\\\"Tax Effect Of Unusual Items\\\\\":0.0,\\\\\"Tax Rate For Calcs\\\\\":0.045,\\\\\"Normalized EBITDA\\\\\":-50622000.0,\\\\\"Total Unusual Items\\\\\":0.0,\\\\\"Total Unusual Items Excluding Goodwill\\\\\":0.0,\\\\\"Net Income From Continuing Operation Net Minority Interest\\\\\":-119370000.0,\\\\\"Reconciled Depreciation\\\\\":49387000.0,\\\\\"Reconciled Cost Of Revenue\\\\\":101055000.0,\\\\\"EBITDA\\\\\":-50622000.0,\\\\\"EBIT\\\\\":-100009000.0,\\\\\"Net Interest Income\\\\\":-18376000.0,\\\\\"Interest Expense\\\\\":24964000.0,\\\\\"Interest Income\\\\\":6588000.0,\\\\\"Normalized Income\\\\\":-119370000.0,\\\\\"Net Income From Continuing And Discontinued Operation\\\\\":-119370000.0,\\\\\"Total Expenses\\\\\":537827000.0,\\\\\"Total Operating Income As Reported\\\\\":-106768000.0,\\\\\"Diluted Average Shares\\\\\":299774000.0,\\\\\"Basic Average Shares\\\\\":299774000.0,\\\\\"Diluted EPS\\\\\":-0.4,\\\\\"Basic EPS\\\\\":-0.4,\\\\\"Diluted NI Availto Com Stockholders\\\\\":-119370000.0,\\\\\"Net Income Common Stockholders\\\\\":-119370000.0,\\\\\"Net Income\\\\\":-119370000.0,\\\\\"Net Income Including Noncontrolling Interests\\\\\":-119370000.0,\\\\\"Net Income Continuous Operations\\\\\":-119370000.0,\\\\\"Tax Provision\\\\\":-5603000.0,\\\\\"Pretax Income\\\\\":-124973000.0,\\\\\"Other Income Expense\\\\\":171000.0,\\\\\"Other Non Operating Income Expenses\\\\\":171000.0,\\\\\"Special Income Charges\\\\\":0.0,\\\\\"Other Special Charges\\\\\":null,\\\\\"Net Non Operating Interest Income Expense\\\\\":-18376000.0,\\\\\"Interest Expense Non Operating\\\\\":24964000.0,\\\\\"Interest Income Non Operating\\\\\":6588000.0,\\\\\"Operating Income\\\\\":-106768000.0,\\\\\"Operating Expense\\\\\":436772000.0,\\\\\"Research And Development\\\\\":127144000.0,\\\\\"Selling General And Administration\\\\\":309628000.0,\\\\\"Selling And Marketing Expense\\\\\":217875000.0,\\\\\"General And Administrative Expense\\\\\":91753000.0,\\\\\"Other Gand A\\\\\":91753000.0,\\\\\"Gross Profit\\\\\":330004000.0,\\\\\"Cost Of Revenue\\\\\":101055000.0,\\\\\"Total Revenue\\\\\":431059000.0,\\\\\"Operating Revenue\\\\\":431059000.0}}\"'"
      ]
     },
     "execution_count": 34,
     "metadata": {},
     "output_type": "execute_result"
    }
   ],
   "source": [
    "get_income_statement({\"ticker\": \"NET\"})"
   ]
  },
  {
   "cell_type": "code",
   "execution_count": 35,
   "metadata": {},
   "outputs": [
    {
     "data": {
      "text/plain": [
       "'\"{\\\\\"1672444800000\\\\\":{\\\\\"Ordinary Shares Number\\\\\":330086000.0,\\\\\"Share Issued\\\\\":330086000.0,\\\\\"Net Debt\\\\\":1232014000.0,\\\\\"Total Debt\\\\\":1577091000.0,\\\\\"Tangible Book Value\\\\\":443434000.0,\\\\\"Invested Capital\\\\\":2060156000.0,\\\\\"Working Capital\\\\\":1490014000.0,\\\\\"Net Tangible Assets\\\\\":443434000.0,\\\\\"Capital Lease Obligations\\\\\":140899000.0,\\\\\"Common Stock Equity\\\\\":623964000.0,\\\\\"Total Capitalization\\\\\":2060156000.0,\\\\\"Total Equity Gross Minority Interest\\\\\":623964000.0,\\\\\"Stockholders Equity\\\\\":623964000.0,\\\\\"Other Equity Interest\\\\\":null,\\\\\"Gains Losses Not Affecting Retained Earnings\\\\\":-11896000.0,\\\\\"Other Equity Adjustments\\\\\":-11896000.0,\\\\\"Retained Earnings\\\\\":-839891000.0,\\\\\"Additional Paid In Capital\\\\\":1475423000.0,\\\\\"Capital Stock\\\\\":328000.0,\\\\\"Common Stock\\\\\":328000.0,\\\\\"Total Liabilities Net Minority Interest\\\\\":1963944000.0,\\\\\"Total Non Current Liabilities Net Minority Interest\\\\\":1566074000.0,\\\\\"Other Non Current Liabilities\\\\\":10526000.0,\\\\\"Tradeand Other Payables Non Current\\\\\":null,\\\\\"Non Current Deferred Liabilities\\\\\":11732000.0,\\\\\"Non Current Deferred Revenue\\\\\":11732000.0,\\\\\"Long Term Debt And Capital Lease Obligation\\\\\":1543816000.0,\\\\\"Long Term Capital Lease Obligation\\\\\":107624000.0,\\\\\"Long Term Debt\\\\\":1436192000.0,\\\\\"Current Liabilities\\\\\":397870000.0,\\\\\"Other Current Liabilities\\\\\":1902000.0,\\\\\"Current Deferred Liabilities\\\\\":218647000.0,\\\\\"Current Deferred Revenue\\\\\":218647000.0,\\\\\"Current Debt And Capital Lease Obligation\\\\\":33275000.0,\\\\\"Current Capital Lease Obligation\\\\\":33275000.0,\\\\\"Current Debt\\\\\":null,\\\\\"Other Current Borrowings\\\\\":null,\\\\\"Pensionand Other Post Retirement Benefit Plans Current\\\\\":42014000.0,\\\\\"Payables And Accrued Expenses\\\\\":102032000.0,\\\\\"Current Accrued Expenses\\\\\":66425000.0,\\\\\"Payables\\\\\":35607000.0,\\\\\"Accounts Payable\\\\\":35607000.0,\\\\\"Total Assets\\\\\":2587908000.0,\\\\\"Total Non Current Assets\\\\\":700024000.0,\\\\\"Other Non Current Assets\\\\\":7389000.0,\\\\\"Non Current Deferred Assets\\\\\":93145000.0,\\\\\"Goodwill And Other Intangible Assets\\\\\":180530000.0,\\\\\"Other Intangible Assets\\\\\":32483000.0,\\\\\"Goodwill\\\\\":148047000.0,\\\\\"Net PPE\\\\\":418960000.0,\\\\\"Accumulated Depreciation\\\\\":-178901000.0,\\\\\"Gross PPE\\\\\":597861000.0,\\\\\"Leases\\\\\":20392000.0,\\\\\"Construction In Progress\\\\\":72827000.0,\\\\\"Other Properties\\\\\":373015000.0,\\\\\"Machinery Furniture Equipment\\\\\":131627000.0,\\\\\"Buildings And Improvements\\\\\":null,\\\\\"Properties\\\\\":0.0,\\\\\"Current Assets\\\\\":1887884000.0,\\\\\"Other Current Assets\\\\\":70556000.0,\\\\\"Restricted Cash\\\\\":10555000.0,\\\\\"Prepaid Assets\\\\\":null,\\\\\"Receivables\\\\\":156836000.0,\\\\\"Other Receivables\\\\\":8292000.0,\\\\\"Accounts Receivable\\\\\":148544000.0,\\\\\"Allowance For Doubtful Accounts Receivable\\\\\":-3134000.0,\\\\\"Gross Accounts Receivable\\\\\":151678000.0,\\\\\"Cash Cash Equivalents And Short Term Investments\\\\\":1649937000.0,\\\\\"Other Short Term Investments\\\\\":1445759000.0,\\\\\"Cash And Cash Equivalents\\\\\":204178000.0,\\\\\"Cash Equivalents\\\\\":204178000.0,\\\\\"Cash Financial\\\\\":null},\\\\\"1640908800000\\\\\":{\\\\\"Ordinary Shares Number\\\\\":323612000.0,\\\\\"Share Issued\\\\\":323612000.0,\\\\\"Net Debt\\\\\":845217000.0,\\\\\"Total Debt\\\\\":1293206000.0,\\\\\"Tangible Book Value\\\\\":791014000.0,\\\\\"Invested Capital\\\\\":1974792000.0,\\\\\"Working Capital\\\\\":1667291000.0,\\\\\"Net Tangible Assets\\\\\":791014000.0,\\\\\"Capital Lease Obligations\\\\\":134212000.0,\\\\\"Common Stock Equity\\\\\":815798000.0,\\\\\"Total Capitalization\\\\\":1962675000.0,\\\\\"Total Equity Gross Minority Interest\\\\\":815798000.0,\\\\\"Stockholders Equity\\\\\":815798000.0,\\\\\"Other Equity Interest\\\\\":4439000.0,\\\\\"Gains Losses Not Affecting Retained Earnings\\\\\":-2645000.0,\\\\\"Other Equity Adjustments\\\\\":-2645000.0,\\\\\"Retained Earnings\\\\\":-680829000.0,\\\\\"Additional Paid In Capital\\\\\":1494512000.0,\\\\\"Capital Stock\\\\\":321000.0,\\\\\"Common Stock\\\\\":321000.0,\\\\\"Total Liabilities Net Minority Interest\\\\\":1556273000.0,\\\\\"Total Non Current Liabilities Net Minority Interest\\\\\":1267708000.0,\\\\\"Other Non Current Liabilities\\\\\":7114000.0,\\\\\"Tradeand Other Payables Non Current\\\\\":null,\\\\\"Non Current Deferred Liabilities\\\\\":4680000.0,\\\\\"Non Current Deferred Revenue\\\\\":4680000.0,\\\\\"Long Term Debt And Capital Lease Obligation\\\\\":1255914000.0,\\\\\"Long Term Capital Lease Obligation\\\\\":109037000.0,\\\\\"Long Term Debt\\\\\":1146877000.0,\\\\\"Current Liabilities\\\\\":288565000.0,\\\\\"Other Current Liabilities\\\\\":4651000.0,\\\\\"Current Deferred Liabilities\\\\\":116546000.0,\\\\\"Current Deferred Revenue\\\\\":116546000.0,\\\\\"Current Debt And Capital Lease Obligation\\\\\":37292000.0,\\\\\"Current Capital Lease Obligation\\\\\":25175000.0,\\\\\"Current Debt\\\\\":12117000.0,\\\\\"Other Current Borrowings\\\\\":12117000.0,\\\\\"Pensionand Other Post Retirement Benefit Plans Current\\\\\":65905000.0,\\\\\"Payables And Accrued Expenses\\\\\":64171000.0,\\\\\"Current Accrued Expenses\\\\\":38085000.0,\\\\\"Payables\\\\\":26086000.0,\\\\\"Accounts Payable\\\\\":26086000.0,\\\\\"Total Assets\\\\\":2372071000.0,\\\\\"Total Non Current Assets\\\\\":416215000.0,\\\\\"Other Non Current Assets\\\\\":7061000.0,\\\\\"Non Current Deferred Assets\\\\\":70320000.0,\\\\\"Goodwill And Other Intangible Assets\\\\\":24784000.0,\\\\\"Other Intangible Assets\\\\\":1254000.0,\\\\\"Goodwill\\\\\":23530000.0,\\\\\"Net PPE\\\\\":314050000.0,\\\\\"Accumulated Depreciation\\\\\":-120213000.0,\\\\\"Gross PPE\\\\\":434263000.0,\\\\\"Leases\\\\\":12892000.0,\\\\\"Construction In Progress\\\\\":41424000.0,\\\\\"Other Properties\\\\\":282206000.0,\\\\\"Machinery Furniture Equipment\\\\\":97741000.0,\\\\\"Buildings And Improvements\\\\\":null,\\\\\"Properties\\\\\":0.0,\\\\\"Current Assets\\\\\":1955856000.0,\\\\\"Other Current Assets\\\\\":29433000.0,\\\\\"Restricted Cash\\\\\":2958000.0,\\\\\"Prepaid Assets\\\\\":29433000.0,\\\\\"Receivables\\\\\":101622000.0,\\\\\"Other Receivables\\\\\":6079000.0,\\\\\"Accounts Receivable\\\\\":95543000.0,\\\\\"Allowance For Doubtful Accounts Receivable\\\\\":-2644000.0,\\\\\"Gross Accounts Receivable\\\\\":98187000.0,\\\\\"Cash Cash Equivalents And Short Term Investments\\\\\":1821843000.0,\\\\\"Other Short Term Investments\\\\\":1508066000.0,\\\\\"Cash And Cash Equivalents\\\\\":313777000.0,\\\\\"Cash Equivalents\\\\\":313777000.0,\\\\\"Cash Financial\\\\\":64021000.0},\\\\\"1609372800000\\\\\":{\\\\\"Ordinary Shares Number\\\\\":308640000.0,\\\\\"Share Issued\\\\\":308640000.0,\\\\\"Net Debt\\\\\":274380000.0,\\\\\"Total Debt\\\\\":428301000.0,\\\\\"Tangible Book Value\\\\\":796973000.0,\\\\\"Invested Capital\\\\\":1200215000.0,\\\\\"Working Capital\\\\\":988577000.0,\\\\\"Net Tangible Assets\\\\\":796973000.0,\\\\\"Capital Lease Obligations\\\\\":45026000.0,\\\\\"Common Stock Equity\\\\\":816940000.0,\\\\\"Total Capitalization\\\\\":1200215000.0,\\\\\"Total Equity Gross Minority Interest\\\\\":816940000.0,\\\\\"Stockholders Equity\\\\\":816940000.0,\\\\\"Other Equity Interest\\\\\":null,\\\\\"Gains Losses Not Affecting Retained Earnings\\\\\":163000.0,\\\\\"Other Equity Adjustments\\\\\":163000.0,\\\\\"Retained Earnings\\\\\":-420520000.0,\\\\\"Additional Paid In Capital\\\\\":1236993000.0,\\\\\"Capital Stock\\\\\":304000.0,\\\\\"Common Stock\\\\\":304000.0,\\\\\"Total Liabilities Net Minority Interest\\\\\":563711000.0,\\\\\"Total Non Current Liabilities Net Minority Interest\\\\\":422334000.0,\\\\\"Other Non Current Liabilities\\\\\":9859000.0,\\\\\"Tradeand Other Payables Non Current\\\\\":7033000.0,\\\\\"Non Current Deferred Liabilities\\\\\":1891000.0,\\\\\"Non Current Deferred Revenue\\\\\":1891000.0,\\\\\"Long Term Debt And Capital Lease Obligation\\\\\":410584000.0,\\\\\"Long Term Capital Lease Obligation\\\\\":27309000.0,\\\\\"Long Term Debt\\\\\":383275000.0,\\\\\"Current Liabilities\\\\\":141377000.0,\\\\\"Other Current Liabilities\\\\\":8603000.0,\\\\\"Current Deferred Liabilities\\\\\":54945000.0,\\\\\"Current Deferred Revenue\\\\\":54945000.0,\\\\\"Current Debt And Capital Lease Obligation\\\\\":17717000.0,\\\\\"Current Capital Lease Obligation\\\\\":17717000.0,\\\\\"Current Debt\\\\\":null,\\\\\"Other Current Borrowings\\\\\":null,\\\\\"Pensionand Other Post Retirement Benefit Plans Current\\\\\":25410000.0,\\\\\"Payables And Accrued Expenses\\\\\":34702000.0,\\\\\"Current Accrued Expenses\\\\\":20217000.0,\\\\\"Payables\\\\\":14485000.0,\\\\\"Accounts Payable\\\\\":14485000.0,\\\\\"Total Assets\\\\\":1380651000.0,\\\\\"Total Non Current Assets\\\\\":250697000.0,\\\\\"Other Non Current Assets\\\\\":19718000.0,\\\\\"Non Current Deferred Assets\\\\\":44176000.0,\\\\\"Goodwill And Other Intangible Assets\\\\\":19967000.0,\\\\\"Other Intangible Assets\\\\\":2800000.0,\\\\\"Goodwill\\\\\":17167000.0,\\\\\"Net PPE\\\\\":166836000.0,\\\\\"Accumulated Depreciation\\\\\":-82608000.0,\\\\\"Gross PPE\\\\\":249444000.0,\\\\\"Leases\\\\\":10686000.0,\\\\\"Construction In Progress\\\\\":11242000.0,\\\\\"Other Properties\\\\\":152566000.0,\\\\\"Machinery Furniture Equipment\\\\\":74950000.0,\\\\\"Buildings And Improvements\\\\\":0.0,\\\\\"Properties\\\\\":0.0,\\\\\"Current Assets\\\\\":1129954000.0,\\\\\"Other Current Assets\\\\\":10295000.0,\\\\\"Restricted Cash\\\\\":2591000.0,\\\\\"Prepaid Assets\\\\\":28230000.0,\\\\\"Receivables\\\\\":67037000.0,\\\\\"Other Receivables\\\\\":3538000.0,\\\\\"Accounts Receivable\\\\\":63499000.0,\\\\\"Allowance For Doubtful Accounts Receivable\\\\\":-1703000.0,\\\\\"Gross Accounts Receivable\\\\\":65202000.0,\\\\\"Cash Cash Equivalents And Short Term Investments\\\\\":1032096000.0,\\\\\"Other Short Term Investments\\\\\":923201000.0,\\\\\"Cash And Cash Equivalents\\\\\":108895000.0,\\\\\"Cash Equivalents\\\\\":89372000.0,\\\\\"Cash Financial\\\\\":19523000.0}}\"'"
      ]
     },
     "execution_count": 35,
     "metadata": {},
     "output_type": "execute_result"
    }
   ],
   "source": [
    "get_balance_sheet({\"ticker\": \"NET\"})"
   ]
  },
  {
   "cell_type": "code",
   "execution_count": 36,
   "metadata": {},
   "outputs": [
    {
     "data": {
      "text/plain": [
       "'\"{\\\\\"Open\\\\\":{\\\\\"1698379200000\\\\\":56.3300018311,\\\\\"1698638400000\\\\\":56.4199981689,\\\\\"1698724800000\\\\\":56.0099983215,\\\\\"1698811200000\\\\\":56.7000007629,\\\\\"1698897600000\\\\\":57.4700012207,\\\\\"1698984000000\\\\\":57.4700012207,\\\\\"1699246800000\\\\\":64.3000030518,\\\\\"1699333200000\\\\\":64.0299987793,\\\\\"1699419600000\\\\\":65.6800003052,\\\\\"1699506000000\\\\\":65.0999984741,\\\\\"1699592400000\\\\\":61.8100013733,\\\\\"1699851600000\\\\\":62.8600006104,\\\\\"1699938000000\\\\\":66.0400009155,\\\\\"1700024400000\\\\\":70.5899963379,\\\\\"1700110800000\\\\\":69.5,\\\\\"1700197200000\\\\\":70.4899978638,\\\\\"1700456400000\\\\\":72.5100021362,\\\\\"1700542800000\\\\\":73.3300018311,\\\\\"1700629200000\\\\\":74.8399963379,\\\\\"1700802000000\\\\\":73.4300003052,\\\\\"1701061200000\\\\\":73.0,\\\\\"1701147600000\\\\\":73.2099990845,\\\\\"1701234000000\\\\\":76.0,\\\\\"1701320400000\\\\\":79.0599975586,\\\\\"1701406800000\\\\\":77.4400024414,\\\\\"1701666000000\\\\\":78.5,\\\\\"1701752400000\\\\\":79.0999984741,\\\\\"1701838800000\\\\\":78.1900024414,\\\\\"1701925200000\\\\\":76.6900024414,\\\\\"1702011600000\\\\\":75.9800033569,\\\\\"1702270800000\\\\\":77.0999984741,\\\\\"1702357200000\\\\\":77.3199996948,\\\\\"1702443600000\\\\\":78.5999984741,\\\\\"1702530000000\\\\\":82.6800003052,\\\\\"1702616400000\\\\\":84.8000030518,\\\\\"1702875600000\\\\\":84.8099975586,\\\\\"1702962000000\\\\\":85.3899993896,\\\\\"1703048400000\\\\\":85.1399993896,\\\\\"1703134800000\\\\\":84.6200027466,\\\\\"1703221200000\\\\\":85.0,\\\\\"1703566800000\\\\\":84.5,\\\\\"1703653200000\\\\\":86.2300033569,\\\\\"1703739600000\\\\\":85.6999969482,\\\\\"1703826000000\\\\\":84.1800003052,\\\\\"1704171600000\\\\\":81.4300003052,\\\\\"1704258000000\\\\\":77.2399978638,\\\\\"1704344400000\\\\\":76.0,\\\\\"1704430800000\\\\\":76.3000030518,\\\\\"1704690000000\\\\\":76.9800033569,\\\\\"1704776400000\\\\\":78.9499969482,\\\\\"1704862800000\\\\\":82.5500030518,\\\\\"1704949200000\\\\\":80.8099975586,\\\\\"1705035600000\\\\\":81.0,\\\\\"1705381200000\\\\\":78.4599990845,\\\\\"1705467600000\\\\\":77.4000015259,\\\\\"1705554000000\\\\\":78.7600021362,\\\\\"1705640400000\\\\\":78.6200027466,\\\\\"1705899600000\\\\\":83.8799972534,\\\\\"1705986000000\\\\\":84.9700012207,\\\\\"1706072400000\\\\\":85.3700027466,\\\\\"1706158800000\\\\\":83.0299987793,\\\\\"1706245200000\\\\\":81.2399978638},\\\\\"High\\\\\":{\\\\\"1698379200000\\\\\":56.9199981689,\\\\\"1698638400000\\\\\":56.9099998474,\\\\\"1698724800000\\\\\":57.2890014648,\\\\\"1698811200000\\\\\":56.7150001526,\\\\\"1698897600000\\\\\":58.0800018311,\\\\\"1698984000000\\\\\":64.5749969482,\\\\\"1699246800000\\\\\":64.5,\\\\\"1699333200000\\\\\":66.2399978638,\\\\\"1699419600000\\\\\":66.1600036621,\\\\\"1699506000000\\\\\":65.4000015259,\\\\\"1699592400000\\\\\":63.3199996948,\\\\\"1699851600000\\\\\":64.25,\\\\\"1699938000000\\\\\":70.9499969482,\\\\\"1700024400000\\\\\":72.6900024414,\\\\\"1700110800000\\\\\":70.9599990845,\\\\\"1700197200000\\\\\":73.1500015259,\\\\\"1700456400000\\\\\":73.8710021973,\\\\\"1700542800000\\\\\":75.6770019531,\\\\\"1700629200000\\\\\":75.0400009155,\\\\\"1700802000000\\\\\":73.8399963379,\\\\\"1701061200000\\\\\":75.5500030518,\\\\\"1701147600000\\\\\":75.0800018311,\\\\\"1701234000000\\\\\":79.0800018311,\\\\\"1701320400000\\\\\":79.6100006104,\\\\\"1701406800000\\\\\":78.8779983521,\\\\\"1701666000000\\\\\":80.1699981689,\\\\\"1701752400000\\\\\":79.2699966431,\\\\\"1701838800000\\\\\":80.03099823,\\\\\"1701925200000\\\\\":77.3000030518,\\\\\"1702011600000\\\\\":78.3399963379,\\\\\"1702270800000\\\\\":78.9599990845,\\\\\"1702357200000\\\\\":78.625,\\\\\"1702443600000\\\\\":81.4499969482,\\\\\"1702530000000\\\\\":84.8899993896,\\\\\"1702616400000\\\\\":85.4800033569,\\\\\"1702875600000\\\\\":85.5999984741,\\\\\"1702962000000\\\\\":86.9049987793,\\\\\"1703048400000\\\\\":86.1699981689,\\\\\"1703134800000\\\\\":85.1169967651,\\\\\"1703221200000\\\\\":85.3099975586,\\\\\"1703566800000\\\\\":85.9499969482,\\\\\"1703653200000\\\\\":86.9100036621,\\\\\"1703739600000\\\\\":85.7699966431,\\\\\"1703826000000\\\\\":84.7900009155,\\\\\"1704171600000\\\\\":81.7200012207,\\\\\"1704258000000\\\\\":78.3199996948,\\\\\"1704344400000\\\\\":77.8399963379,\\\\\"1704430800000\\\\\":77.6399993896,\\\\\"1704690000000\\\\\":79.7699966431,\\\\\"1704776400000\\\\\":81.6500015259,\\\\\"1704862800000\\\\\":83.0,\\\\\"1704949200000\\\\\":81.8820037842,\\\\\"1705035600000\\\\\":81.5899963379,\\\\\"1705381200000\\\\\":79.5299987793,\\\\\"1705467600000\\\\\":77.4000015259,\\\\\"1705554000000\\\\\":79.6829986572,\\\\\"1705640400000\\\\\":81.3700027466,\\\\\"1705899600000\\\\\":87.1699981689,\\\\\"1705986000000\\\\\":85.6399993896,\\\\\"1706072400000\\\\\":86.2399978638,\\\\\"1706158800000\\\\\":83.6060028076,\\\\\"1706245200000\\\\\":82.5},\\\\\"Low\\\\\":{\\\\\"1698379200000\\\\\":54.9230003357,\\\\\"1698638400000\\\\\":55.1450004578,\\\\\"1698724800000\\\\\":55.2599983215,\\\\\"1698811200000\\\\\":53.8810005188,\\\\\"1698897600000\\\\\":55.4000015259,\\\\\"1698984000000\\\\\":57.3600006104,\\\\\"1699246800000\\\\\":61.4000015259,\\\\\"1699333200000\\\\\":63.4099998474,\\\\\"1699419600000\\\\\":63.8800010681,\\\\\"1699506000000\\\\\":62.0200004578,\\\\\"1699592400000\\\\\":61.3400001526,\\\\\"1699851600000\\\\\":62.3899993896,\\\\\"1699938000000\\\\\":66.0400009155,\\\\\"1700024400000\\\\\":70.1399993896,\\\\\"1700110800000\\\\\":68.9499969482,\\\\\"1700197200000\\\\\":69.8199996948,\\\\\"1700456400000\\\\\":72.3199996948,\\\\\"1700542800000\\\\\":72.9000015259,\\\\\"1700629200000\\\\\":73.1299972534,\\\\\"1700802000000\\\\\":72.4100036621,\\\\\"1701061200000\\\\\":72.6949996948,\\\\\"1701147600000\\\\\":72.8300018311,\\\\\"1701234000000\\\\\":75.1999969482,\\\\\"1701320400000\\\\\":76.5899963379,\\\\\"1701406800000\\\\\":75.7900009155,\\\\\"1701666000000\\\\\":78.0599975586,\\\\\"1701752400000\\\\\":76.9150009155,\\\\\"1701838800000\\\\\":76.6100006104,\\\\\"1701925200000\\\\\":75.7300033569,\\\\\"1702011600000\\\\\":75.7799987793,\\\\\"1702270800000\\\\\":76.8899993896,\\\\\"1702357200000\\\\\":76.5,\\\\\"1702443600000\\\\\":77.5199966431,\\\\\"1702530000000\\\\\":81.8099975586,\\\\\"1702616400000\\\\\":83.3600006104,\\\\\"1702875600000\\\\\":83.9199981689,\\\\\"1702962000000\\\\\":85.0449981689,\\\\\"1703048400000\\\\\":82.6699981689,\\\\\"1703134800000\\\\\":83.3600006104,\\\\\"1703221200000\\\\\":83.5400009155,\\\\\"1703566800000\\\\\":84.3300018311,\\\\\"1703653200000\\\\\":84.9300003052,\\\\\"1703739600000\\\\\":84.3700027466,\\\\\"1703826000000\\\\\":82.75,\\\\\"1704171600000\\\\\":78.3899993896,\\\\\"1704258000000\\\\\":75.8099975586,\\\\\"1704344400000\\\\\":75.6500015259,\\\\\"1704430800000\\\\\":76.1500015259,\\\\\"1704690000000\\\\\":76.6699981689,\\\\\"1704776400000\\\\\":78.6500015259,\\\\\"1704862800000\\\\\":80.3600006104,\\\\\"1704949200000\\\\\":78.1200027466,\\\\\"1705035600000\\\\\":79.1200027466,\\\\\"1705381200000\\\\\":77.0899963379,\\\\\"1705467600000\\\\\":74.3700027466,\\\\\"1705554000000\\\\\":76.6299972534,\\\\\"1705640400000\\\\\":77.9100036621,\\\\\"1705899600000\\\\\":83.5400009155,\\\\\"1705986000000\\\\\":83.3499984741,\\\\\"1706072400000\\\\\":82.3000030518,\\\\\"1706158800000\\\\\":81.2600021362,\\\\\"1706245200000\\\\\":79.8000030518},\\\\\"Close\\\\\":{\\\\\"1698379200000\\\\\":55.3499984741,\\\\\"1698638400000\\\\\":55.8800010681,\\\\\"1698724800000\\\\\":56.6899986267,\\\\\"1698811200000\\\\\":54.9500007629,\\\\\"1698897600000\\\\\":56.5800018311,\\\\\"1698984000000\\\\\":64.4199981689,\\\\\"1699246800000\\\\\":63.1100006104,\\\\\"1699333200000\\\\\":66.0,\\\\\"1699419600000\\\\\":64.5800018311,\\\\\"1699506000000\\\\\":62.1800003052,\\\\\"1699592400000\\\\\":63.0800018311,\\\\\"1699851600000\\\\\":63.8899993896,\\\\\"1699938000000\\\\\":70.6100006104,\\\\\"1700024400000\\\\\":70.8099975586,\\\\\"1700110800000\\\\\":70.6999969482,\\\\\"1700197200000\\\\\":72.6900024414,\\\\\"1700456400000\\\\\":72.8099975586,\\\\\"1700542800000\\\\\":73.8499984741,\\\\\"1700629200000\\\\\":73.6800003052,\\\\\"1700802000000\\\\\":73.4000015259,\\\\\"1701061200000\\\\\":73.9499969482,\\\\\"1701147600000\\\\\":74.5400009155,\\\\\"1701234000000\\\\\":78.3099975586,\\\\\"1701320400000\\\\\":77.1500015259,\\\\\"1701406800000\\\\\":78.7799987793,\\\\\"1701666000000\\\\\":79.8199996948,\\\\\"1701752400000\\\\\":77.9499969482,\\\\\"1701838800000\\\\\":76.6600036621,\\\\\"1701925200000\\\\\":76.8000030518,\\\\\"1702011600000\\\\\":77.5199966431,\\\\\"1702270800000\\\\\":77.8199996948,\\\\\"1702357200000\\\\\":78.1900024414,\\\\\"1702443600000\\\\\":80.3799972534,\\\\\"1702530000000\\\\\":84.6600036621,\\\\\"1702616400000\\\\\":85.0500030518,\\\\\"1702875600000\\\\\":84.6999969482,\\\\\"1702962000000\\\\\":85.5100021362,\\\\\"1703048400000\\\\\":82.8300018311,\\\\\"1703134800000\\\\\":84.8499984741,\\\\\"1703221200000\\\\\":84.3199996948,\\\\\"1703566800000\\\\\":85.7600021362,\\\\\"1703653200000\\\\\":85.5500030518,\\\\\"1703739600000\\\\\":84.6800003052,\\\\\"1703826000000\\\\\":83.2600021362,\\\\\"1704171600000\\\\\":79.3499984741,\\\\\"1704258000000\\\\\":76.3899993896,\\\\\"1704344400000\\\\\":76.8300018311,\\\\\"1704430800000\\\\\":76.2799987793,\\\\\"1704690000000\\\\\":79.6399993896,\\\\\"1704776400000\\\\\":81.6299972534,\\\\\"1704862800000\\\\\":80.9700012207,\\\\\"1704949200000\\\\\":80.8199996948,\\\\\"1705035600000\\\\\":79.3700027466,\\\\\"1705381200000\\\\\":78.4499969482,\\\\\"1705467600000\\\\\":77.0699996948,\\\\\"1705554000000\\\\\":77.9599990845,\\\\\"1705640400000\\\\\":81.3499984741,\\\\\"1705899600000\\\\\":84.6800003052,\\\\\"1705986000000\\\\\":83.9300003052,\\\\\"1706072400000\\\\\":82.3300018311,\\\\\"1706158800000\\\\\":81.8600006104,\\\\\"1706245200000\\\\\":80.1800003052},\\\\\"Volume\\\\\":{\\\\\"1698379200000\\\\\":2813100,\\\\\"1698638400000\\\\\":2434300,\\\\\"1698724800000\\\\\":2371100,\\\\\"1698811200000\\\\\":3912600,\\\\\"1698897600000\\\\\":9743500,\\\\\"1698984000000\\\\\":12893800,\\\\\"1699246800000\\\\\":5751500,\\\\\"1699333200000\\\\\":6153900,\\\\\"1699419600000\\\\\":2697100,\\\\\"1699506000000\\\\\":3943100,\\\\\"1699592400000\\\\\":3084000,\\\\\"1699851600000\\\\\":3270700,\\\\\"1699938000000\\\\\":8228000,\\\\\"1700024400000\\\\\":4561300,\\\\\"1700110800000\\\\\":3364700,\\\\\"1700197200000\\\\\":3262100,\\\\\"1700456400000\\\\\":2649900,\\\\\"1700542800000\\\\\":3780800,\\\\\"1700629200000\\\\\":2122200,\\\\\"1700802000000\\\\\":867400,\\\\\"1701061200000\\\\\":3572400,\\\\\"1701147600000\\\\\":3043500,\\\\\"1701234000000\\\\\":5285400,\\\\\"1701320400000\\\\\":4757200,\\\\\"1701406800000\\\\\":3585300,\\\\\"1701666000000\\\\\":3998000,\\\\\"1701752400000\\\\\":3334200,\\\\\"1701838800000\\\\\":2813100,\\\\\"1701925200000\\\\\":2676100,\\\\\"1702011600000\\\\\":2600100,\\\\\"1702270800000\\\\\":1974100,\\\\\"1702357200000\\\\\":1826100,\\\\\"1702443600000\\\\\":4577200,\\\\\"1702530000000\\\\\":6581300,\\\\\"1702616400000\\\\\":5473600,\\\\\"1702875600000\\\\\":2309600,\\\\\"1702962000000\\\\\":2332200,\\\\\"1703048400000\\\\\":2716200,\\\\\"1703134800000\\\\\":2280800,\\\\\"1703221200000\\\\\":1553300,\\\\\"1703566800000\\\\\":1557400,\\\\\"1703653200000\\\\\":1759000,\\\\\"1703739600000\\\\\":1646200,\\\\\"1703826000000\\\\\":1974000,\\\\\"1704171600000\\\\\":3677100,\\\\\"1704258000000\\\\\":3123800,\\\\\"1704344400000\\\\\":2528900,\\\\\"1704430800000\\\\\":2345800,\\\\\"1704690000000\\\\\":2771000,\\\\\"1704776400000\\\\\":2694700,\\\\\"1704862800000\\\\\":4138600,\\\\\"1704949200000\\\\\":3256800,\\\\\"1705035600000\\\\\":1741900,\\\\\"1705381200000\\\\\":2790900,\\\\\"1705467600000\\\\\":3572600,\\\\\"1705554000000\\\\\":2484100,\\\\\"1705640400000\\\\\":3239100,\\\\\"1705899600000\\\\\":4441600,\\\\\"1705986000000\\\\\":2187800,\\\\\"1706072400000\\\\\":2453200,\\\\\"1706158800000\\\\\":2042900,\\\\\"1706245200000\\\\\":2285700},\\\\\"Dividends\\\\\":{\\\\\"1698379200000\\\\\":0.0,\\\\\"1698638400000\\\\\":0.0,\\\\\"1698724800000\\\\\":0.0,\\\\\"1698811200000\\\\\":0.0,\\\\\"1698897600000\\\\\":0.0,\\\\\"1698984000000\\\\\":0.0,\\\\\"1699246800000\\\\\":0.0,\\\\\"1699333200000\\\\\":0.0,\\\\\"1699419600000\\\\\":0.0,\\\\\"1699506000000\\\\\":0.0,\\\\\"1699592400000\\\\\":0.0,\\\\\"1699851600000\\\\\":0.0,\\\\\"1699938000000\\\\\":0.0,\\\\\"1700024400000\\\\\":0.0,\\\\\"1700110800000\\\\\":0.0,\\\\\"1700197200000\\\\\":0.0,\\\\\"1700456400000\\\\\":0.0,\\\\\"1700542800000\\\\\":0.0,\\\\\"1700629200000\\\\\":0.0,\\\\\"1700802000000\\\\\":0.0,\\\\\"1701061200000\\\\\":0.0,\\\\\"1701147600000\\\\\":0.0,\\\\\"1701234000000\\\\\":0.0,\\\\\"1701320400000\\\\\":0.0,\\\\\"1701406800000\\\\\":0.0,\\\\\"1701666000000\\\\\":0.0,\\\\\"1701752400000\\\\\":0.0,\\\\\"1701838800000\\\\\":0.0,\\\\\"1701925200000\\\\\":0.0,\\\\\"1702011600000\\\\\":0.0,\\\\\"1702270800000\\\\\":0.0,\\\\\"1702357200000\\\\\":0.0,\\\\\"1702443600000\\\\\":0.0,\\\\\"1702530000000\\\\\":0.0,\\\\\"1702616400000\\\\\":0.0,\\\\\"1702875600000\\\\\":0.0,\\\\\"1702962000000\\\\\":0.0,\\\\\"1703048400000\\\\\":0.0,\\\\\"1703134800000\\\\\":0.0,\\\\\"1703221200000\\\\\":0.0,\\\\\"1703566800000\\\\\":0.0,\\\\\"1703653200000\\\\\":0.0,\\\\\"1703739600000\\\\\":0.0,\\\\\"1703826000000\\\\\":0.0,\\\\\"1704171600000\\\\\":0.0,\\\\\"1704258000000\\\\\":0.0,\\\\\"1704344400000\\\\\":0.0,\\\\\"1704430800000\\\\\":0.0,\\\\\"1704690000000\\\\\":0.0,\\\\\"1704776400000\\\\\":0.0,\\\\\"1704862800000\\\\\":0.0,\\\\\"1704949200000\\\\\":0.0,\\\\\"1705035600000\\\\\":0.0,\\\\\"1705381200000\\\\\":0.0,\\\\\"1705467600000\\\\\":0.0,\\\\\"1705554000000\\\\\":0.0,\\\\\"1705640400000\\\\\":0.0,\\\\\"1705899600000\\\\\":0.0,\\\\\"1705986000000\\\\\":0.0,\\\\\"1706072400000\\\\\":0.0,\\\\\"1706158800000\\\\\":0.0,\\\\\"1706245200000\\\\\":0.0},\\\\\"Stock Splits\\\\\":{\\\\\"1698379200000\\\\\":0.0,\\\\\"1698638400000\\\\\":0.0,\\\\\"1698724800000\\\\\":0.0,\\\\\"1698811200000\\\\\":0.0,\\\\\"1698897600000\\\\\":0.0,\\\\\"1698984000000\\\\\":0.0,\\\\\"1699246800000\\\\\":0.0,\\\\\"1699333200000\\\\\":0.0,\\\\\"1699419600000\\\\\":0.0,\\\\\"1699506000000\\\\\":0.0,\\\\\"1699592400000\\\\\":0.0,\\\\\"1699851600000\\\\\":0.0,\\\\\"1699938000000\\\\\":0.0,\\\\\"1700024400000\\\\\":0.0,\\\\\"1700110800000\\\\\":0.0,\\\\\"1700197200000\\\\\":0.0,\\\\\"1700456400000\\\\\":0.0,\\\\\"1700542800000\\\\\":0.0,\\\\\"1700629200000\\\\\":0.0,\\\\\"1700802000000\\\\\":0.0,\\\\\"1701061200000\\\\\":0.0,\\\\\"1701147600000\\\\\":0.0,\\\\\"1701234000000\\\\\":0.0,\\\\\"1701320400000\\\\\":0.0,\\\\\"1701406800000\\\\\":0.0,\\\\\"1701666000000\\\\\":0.0,\\\\\"1701752400000\\\\\":0.0,\\\\\"1701838800000\\\\\":0.0,\\\\\"1701925200000\\\\\":0.0,\\\\\"1702011600000\\\\\":0.0,\\\\\"1702270800000\\\\\":0.0,\\\\\"1702357200000\\\\\":0.0,\\\\\"1702443600000\\\\\":0.0,\\\\\"1702530000000\\\\\":0.0,\\\\\"1702616400000\\\\\":0.0,\\\\\"1702875600000\\\\\":0.0,\\\\\"1702962000000\\\\\":0.0,\\\\\"1703048400000\\\\\":0.0,\\\\\"1703134800000\\\\\":0.0,\\\\\"1703221200000\\\\\":0.0,\\\\\"1703566800000\\\\\":0.0,\\\\\"1703653200000\\\\\":0.0,\\\\\"1703739600000\\\\\":0.0,\\\\\"1703826000000\\\\\":0.0,\\\\\"1704171600000\\\\\":0.0,\\\\\"1704258000000\\\\\":0.0,\\\\\"1704344400000\\\\\":0.0,\\\\\"1704430800000\\\\\":0.0,\\\\\"1704690000000\\\\\":0.0,\\\\\"1704776400000\\\\\":0.0,\\\\\"1704862800000\\\\\":0.0,\\\\\"1704949200000\\\\\":0.0,\\\\\"1705035600000\\\\\":0.0,\\\\\"1705381200000\\\\\":0.0,\\\\\"1705467600000\\\\\":0.0,\\\\\"1705554000000\\\\\":0.0,\\\\\"1705640400000\\\\\":0.0,\\\\\"1705899600000\\\\\":0.0,\\\\\"1705986000000\\\\\":0.0,\\\\\"1706072400000\\\\\":0.0,\\\\\"1706158800000\\\\\":0.0,\\\\\"1706245200000\\\\\":0.0}}\"'"
      ]
     },
     "execution_count": 36,
     "metadata": {},
     "output_type": "execute_result"
    }
   ],
   "source": [
    "get_daily_stock_performance({\"ticker\": \"NET\"})"
   ]
  },
  {
   "cell_type": "code",
   "execution_count": 141,
   "metadata": {},
   "outputs": [
    {
     "data": {
      "text/plain": [
       "Thread(id='thread_V7FVooZ3Y21ftrqhzk6zY2vR', created_at=1706337417, metadata={}, object='thread')"
      ]
     },
     "execution_count": 141,
     "metadata": {},
     "output_type": "execute_result"
    }
   ],
   "source": [
    "thread = client.beta.threads.create(\n",
    "    messages = [\n",
    "        {\n",
    "            \"role\": \"user\",\n",
    "            \"content\": \"I want to know if the Salesforce stock is a good buy\"\n",
    "        }\n",
    "    ]\n",
    ")\n",
    "\n",
    "thread"
   ]
  },
  {
   "cell_type": "code",
   "execution_count": 142,
   "metadata": {},
   "outputs": [
    {
     "data": {
      "text/plain": [
       "Run(id='run_RRHZvYbngLCvJEc5MQgqrrWV', assistant_id='asst_VoWOmay5yV1QduEDlvYK6lF6', cancelled_at=None, completed_at=None, created_at=1706337419, expires_at=1706338019, failed_at=None, file_ids=[], instructions='You help users do research on traded companies in public and you help them decide if they should buy the stock or not.', last_error=None, metadata={}, model='gpt-4-1106-preview', object='thread.run', required_action=None, started_at=None, status='queued', thread_id='thread_V7FVooZ3Y21ftrqhzk6zY2vR', tools=[ToolAssistantToolsFunction(function=FunctionDefinition(name='get_ticker', description='Given the name of a company returns its ticker symbol', parameters={'type': 'object', 'properties': {'company_name': {'type': 'string', 'description': 'The name of the company'}}, 'required': ['company_name']}), type='function'), ToolAssistantToolsFunction(function=FunctionDefinition(name='get_income_statement', description=\"Given a ticker symbol (i.e AAPL) returns the company's income statement.\", parameters={'type': 'object', 'properties': {'ticker': {'type': 'string', 'description': 'Ticker symbol of the company'}}, 'required': ['ticker']}), type='function'), ToolAssistantToolsFunction(function=FunctionDefinition(name='get_balance_sheet', description=\"Given a ticker symbol (i.e AAPL) returns the company's balance sheet.\", parameters={'type': 'object', 'properties': {'ticker': {'type': 'string', 'description': 'Ticker symbol of the company'}}, 'required': ['ticker']}), type='function'), ToolAssistantToolsFunction(function=FunctionDefinition(name='get_daily_stock_performance', description='Given a ticker symbol (i.e AAPL) returns the performance of the stock for the last 100 days.', parameters={'type': 'object', 'properties': {'ticker': {'type': 'string', 'description': 'Ticker symbol of the company'}}, 'required': ['ticker']}), type='function')], usage=None)"
      ]
     },
     "execution_count": 142,
     "metadata": {},
     "output_type": "execute_result"
    }
   ],
   "source": [
    "run = client.beta.threads.runs.create(\n",
    "    thread_id = thread.id,\n",
    "    assistant_id = assistant_id,\n",
    ")\n",
    "run"
   ]
  },
  {
   "cell_type": "code",
   "execution_count": 140,
   "metadata": {},
   "outputs": [],
   "source": [
    "\n",
    "# run = client.beta.threads.runs.cancel(\n",
    "#   thread_id=thread.id,\n",
    "#   run_id=run.id\n",
    "# )\n"
   ]
  },
  {
   "cell_type": "code",
   "execution_count": 172,
   "metadata": {},
   "outputs": [],
   "source": [
    "def send_message(thread_id, content):\n",
    "    return client.beta.threads.messages.create(\n",
    "        thread_id=thread_id,\n",
    "        role=\"user\",\n",
    "        content=content,\n",
    "    )\n",
    "\n",
    "\n",
    "def get_run(run_id, thread_id):\n",
    "    return client.beta.threads.runs.retrieve(\n",
    "        run_id = run_id,\n",
    "        thread_id = thread_id,\n",
    "    )\n",
    "\n",
    "\n",
    "def get_messages(thread_id):\n",
    "    messages = client.beta.threads.messages.list(thread_id=thread_id)\n",
    "    messages = list(messages)\n",
    "    messages.reverse()\n",
    "    for message in messages:\n",
    "        print(f\"{message.role}: {message.content[0].text.value}\")\n",
    "        for annotation in message.content[0].text.annotations:\n",
    "            print(f\"Source: {annotation.file_citation}\")\n",
    "    \n",
    "\n",
    "\n",
    "def get_tool_outputs(run_id, thread_id):\n",
    "    run = get_run(run_id, thread.id)\n",
    "    outputs = []\n",
    "    for action in run.required_action.submit_tool_outputs.tool_calls:\n",
    "        action_id = action.id\n",
    "        function = action.function\n",
    "        print(f\"Calling function: {function.name} with arg {function.arguments}\")\n",
    "        outputs.append(\n",
    "            {\n",
    "                \"output\": functions_map[function.name](json.loads(function.arguments)),\n",
    "                \"tool_call_id\": action_id,\n",
    "            }\n",
    "        )\n",
    "    return outputs\n",
    "\n",
    "\n",
    "def submit_tool_outputs(run_id, thread_id):\n",
    "    outputs = get_tool_outputs(run_id, thread_id)\n",
    "    return client.beta.threads.runs.submit_tool_outputs(\n",
    "        run_id = run_id,\n",
    "        thread_id = thread_id,\n",
    "        tool_outputs = outputs\n",
    "    )\n",
    "\n",
    "        \n",
    "    "
   ]
  },
  {
   "cell_type": "code",
   "execution_count": 144,
   "metadata": {},
   "outputs": [
    {
     "data": {
      "text/plain": [
       "'requires_action'"
      ]
     },
     "execution_count": 144,
     "metadata": {},
     "output_type": "execute_result"
    }
   ],
   "source": [
    "get_run(run.id, thread.id).status"
   ]
  },
  {
   "cell_type": "code",
   "execution_count": 53,
   "metadata": {},
   "outputs": [
    {
     "name": "stdout",
     "output_type": "stream",
     "text": [
      "user: I want to know if the Salesforce stock is a good buy\n",
      "assistant: To help you with an informed decision about whether Salesforce stock is a good buy or not, we'll need to consider various factors, such as the company's financial health, stock performance, and overall market conditions. Below are some steps we can take to assess Salesforce:\n",
      "\n",
      "1. Find the ticker symbol for Salesforce.\n",
      "2. Analyze the company's income statement to review revenue, profit margins, and earnings.\n",
      "3. Review the company's balance sheet to check its financial stability, debt levels, and assets.\n",
      "4. Look at the performance of Salesforce stock over the last 100 days to get a sense of its recent market behavior.\n",
      "\n",
      "Let's begin by finding the ticker symbol for Salesforce and then gather its financial statements and stock performance data. I'll handle these steps one by one. First, I'll find the ticker symbol for Salesforce. Please hold on.\n"
     ]
    }
   ],
   "source": [
    "get_messages(thread.id)"
   ]
  },
  {
   "cell_type": "code",
   "execution_count": 148,
   "metadata": {},
   "outputs": [
    {
     "ename": "BadRequestError",
     "evalue": "Error code: 400 - {'error': {'message': \"Can't add messages to thread_V7FVooZ3Y21ftrqhzk6zY2vR while a run run_RRHZvYbngLCvJEc5MQgqrrWV is active.\", 'type': 'invalid_request_error', 'param': None, 'code': None}}",
     "output_type": "error",
     "traceback": [
      "\u001b[0;31m---------------------------------------------------------------------------\u001b[0m",
      "\u001b[0;31mBadRequestError\u001b[0m                           Traceback (most recent call last)",
      "Cell \u001b[0;32mIn[148], line 1\u001b[0m\n\u001b[0;32m----> 1\u001b[0m \u001b[43msend_message\u001b[49m\u001b[43m(\u001b[49m\u001b[43mthread\u001b[49m\u001b[38;5;241;43m.\u001b[39;49m\u001b[43mid\u001b[49m\u001b[43m,\u001b[49m\u001b[43m \u001b[49m\u001b[38;5;124;43m\"\u001b[39;49m\u001b[38;5;124;43mplease go ahead\u001b[39;49m\u001b[38;5;124;43m\"\u001b[39;49m\u001b[43m)\u001b[49m\n",
      "Cell \u001b[0;32mIn[143], line 2\u001b[0m, in \u001b[0;36msend_message\u001b[0;34m(thread_id, content)\u001b[0m\n\u001b[1;32m      1\u001b[0m \u001b[38;5;28;01mdef\u001b[39;00m \u001b[38;5;21msend_message\u001b[39m(thread_id, content):\n\u001b[0;32m----> 2\u001b[0m     \u001b[38;5;28;01mreturn\u001b[39;00m \u001b[43mclient\u001b[49m\u001b[38;5;241;43m.\u001b[39;49m\u001b[43mbeta\u001b[49m\u001b[38;5;241;43m.\u001b[39;49m\u001b[43mthreads\u001b[49m\u001b[38;5;241;43m.\u001b[39;49m\u001b[43mmessages\u001b[49m\u001b[38;5;241;43m.\u001b[39;49m\u001b[43mcreate\u001b[49m\u001b[43m(\u001b[49m\n\u001b[1;32m      3\u001b[0m \u001b[43m        \u001b[49m\u001b[43mthread_id\u001b[49m\u001b[38;5;241;43m=\u001b[39;49m\u001b[43mthread_id\u001b[49m\u001b[43m,\u001b[49m\n\u001b[1;32m      4\u001b[0m \u001b[43m        \u001b[49m\u001b[43mrole\u001b[49m\u001b[38;5;241;43m=\u001b[39;49m\u001b[38;5;124;43m\"\u001b[39;49m\u001b[38;5;124;43muser\u001b[39;49m\u001b[38;5;124;43m\"\u001b[39;49m\u001b[43m,\u001b[49m\n\u001b[1;32m      5\u001b[0m \u001b[43m        \u001b[49m\u001b[43mcontent\u001b[49m\u001b[38;5;241;43m=\u001b[39;49m\u001b[43mcontent\u001b[49m\u001b[43m,\u001b[49m\n\u001b[1;32m      6\u001b[0m \u001b[43m    \u001b[49m\u001b[43m)\u001b[49m\n",
      "File \u001b[0;32m~/FullStack_GPT/env/lib/python3.11/site-packages/openai/resources/beta/threads/messages/messages.py:92\u001b[0m, in \u001b[0;36mMessages.create\u001b[0;34m(self, thread_id, content, role, file_ids, metadata, extra_headers, extra_query, extra_body, timeout)\u001b[0m\n\u001b[1;32m     90\u001b[0m     \u001b[38;5;28;01mraise\u001b[39;00m \u001b[38;5;167;01mValueError\u001b[39;00m(\u001b[38;5;124mf\u001b[39m\u001b[38;5;124m\"\u001b[39m\u001b[38;5;124mExpected a non-empty value for `thread_id` but received \u001b[39m\u001b[38;5;132;01m{\u001b[39;00mthread_id\u001b[38;5;132;01m!r}\u001b[39;00m\u001b[38;5;124m\"\u001b[39m)\n\u001b[1;32m     91\u001b[0m extra_headers \u001b[38;5;241m=\u001b[39m {\u001b[38;5;124m\"\u001b[39m\u001b[38;5;124mOpenAI-Beta\u001b[39m\u001b[38;5;124m\"\u001b[39m: \u001b[38;5;124m\"\u001b[39m\u001b[38;5;124massistants=v1\u001b[39m\u001b[38;5;124m\"\u001b[39m, \u001b[38;5;241m*\u001b[39m\u001b[38;5;241m*\u001b[39m(extra_headers \u001b[38;5;129;01mor\u001b[39;00m {})}\n\u001b[0;32m---> 92\u001b[0m \u001b[38;5;28;01mreturn\u001b[39;00m \u001b[38;5;28;43mself\u001b[39;49m\u001b[38;5;241;43m.\u001b[39;49m\u001b[43m_post\u001b[49m\u001b[43m(\u001b[49m\n\u001b[1;32m     93\u001b[0m \u001b[43m    \u001b[49m\u001b[38;5;124;43mf\u001b[39;49m\u001b[38;5;124;43m\"\u001b[39;49m\u001b[38;5;124;43m/threads/\u001b[39;49m\u001b[38;5;132;43;01m{\u001b[39;49;00m\u001b[43mthread_id\u001b[49m\u001b[38;5;132;43;01m}\u001b[39;49;00m\u001b[38;5;124;43m/messages\u001b[39;49m\u001b[38;5;124;43m\"\u001b[39;49m\u001b[43m,\u001b[49m\n\u001b[1;32m     94\u001b[0m \u001b[43m    \u001b[49m\u001b[43mbody\u001b[49m\u001b[38;5;241;43m=\u001b[39;49m\u001b[43mmaybe_transform\u001b[49m\u001b[43m(\u001b[49m\n\u001b[1;32m     95\u001b[0m \u001b[43m        \u001b[49m\u001b[43m{\u001b[49m\n\u001b[1;32m     96\u001b[0m \u001b[43m            \u001b[49m\u001b[38;5;124;43m\"\u001b[39;49m\u001b[38;5;124;43mcontent\u001b[39;49m\u001b[38;5;124;43m\"\u001b[39;49m\u001b[43m:\u001b[49m\u001b[43m \u001b[49m\u001b[43mcontent\u001b[49m\u001b[43m,\u001b[49m\n\u001b[1;32m     97\u001b[0m \u001b[43m            \u001b[49m\u001b[38;5;124;43m\"\u001b[39;49m\u001b[38;5;124;43mrole\u001b[39;49m\u001b[38;5;124;43m\"\u001b[39;49m\u001b[43m:\u001b[49m\u001b[43m \u001b[49m\u001b[43mrole\u001b[49m\u001b[43m,\u001b[49m\n\u001b[1;32m     98\u001b[0m \u001b[43m            \u001b[49m\u001b[38;5;124;43m\"\u001b[39;49m\u001b[38;5;124;43mfile_ids\u001b[39;49m\u001b[38;5;124;43m\"\u001b[39;49m\u001b[43m:\u001b[49m\u001b[43m \u001b[49m\u001b[43mfile_ids\u001b[49m\u001b[43m,\u001b[49m\n\u001b[1;32m     99\u001b[0m \u001b[43m            \u001b[49m\u001b[38;5;124;43m\"\u001b[39;49m\u001b[38;5;124;43mmetadata\u001b[39;49m\u001b[38;5;124;43m\"\u001b[39;49m\u001b[43m:\u001b[49m\u001b[43m \u001b[49m\u001b[43mmetadata\u001b[49m\u001b[43m,\u001b[49m\n\u001b[1;32m    100\u001b[0m \u001b[43m        \u001b[49m\u001b[43m}\u001b[49m\u001b[43m,\u001b[49m\n\u001b[1;32m    101\u001b[0m \u001b[43m        \u001b[49m\u001b[43mmessage_create_params\u001b[49m\u001b[38;5;241;43m.\u001b[39;49m\u001b[43mMessageCreateParams\u001b[49m\u001b[43m,\u001b[49m\n\u001b[1;32m    102\u001b[0m \u001b[43m    \u001b[49m\u001b[43m)\u001b[49m\u001b[43m,\u001b[49m\n\u001b[1;32m    103\u001b[0m \u001b[43m    \u001b[49m\u001b[43moptions\u001b[49m\u001b[38;5;241;43m=\u001b[39;49m\u001b[43mmake_request_options\u001b[49m\u001b[43m(\u001b[49m\n\u001b[1;32m    104\u001b[0m \u001b[43m        \u001b[49m\u001b[43mextra_headers\u001b[49m\u001b[38;5;241;43m=\u001b[39;49m\u001b[43mextra_headers\u001b[49m\u001b[43m,\u001b[49m\u001b[43m \u001b[49m\u001b[43mextra_query\u001b[49m\u001b[38;5;241;43m=\u001b[39;49m\u001b[43mextra_query\u001b[49m\u001b[43m,\u001b[49m\u001b[43m \u001b[49m\u001b[43mextra_body\u001b[49m\u001b[38;5;241;43m=\u001b[39;49m\u001b[43mextra_body\u001b[49m\u001b[43m,\u001b[49m\u001b[43m \u001b[49m\u001b[43mtimeout\u001b[49m\u001b[38;5;241;43m=\u001b[39;49m\u001b[43mtimeout\u001b[49m\n\u001b[1;32m    105\u001b[0m \u001b[43m    \u001b[49m\u001b[43m)\u001b[49m\u001b[43m,\u001b[49m\n\u001b[1;32m    106\u001b[0m \u001b[43m    \u001b[49m\u001b[43mcast_to\u001b[49m\u001b[38;5;241;43m=\u001b[39;49m\u001b[43mThreadMessage\u001b[49m\u001b[43m,\u001b[49m\n\u001b[1;32m    107\u001b[0m \u001b[43m\u001b[49m\u001b[43m)\u001b[49m\n",
      "File \u001b[0;32m~/FullStack_GPT/env/lib/python3.11/site-packages/openai/_base_client.py:1180\u001b[0m, in \u001b[0;36mSyncAPIClient.post\u001b[0;34m(self, path, cast_to, body, options, files, stream, stream_cls)\u001b[0m\n\u001b[1;32m   1166\u001b[0m \u001b[38;5;28;01mdef\u001b[39;00m \u001b[38;5;21mpost\u001b[39m(\n\u001b[1;32m   1167\u001b[0m     \u001b[38;5;28mself\u001b[39m,\n\u001b[1;32m   1168\u001b[0m     path: \u001b[38;5;28mstr\u001b[39m,\n\u001b[0;32m   (...)\u001b[0m\n\u001b[1;32m   1175\u001b[0m     stream_cls: \u001b[38;5;28mtype\u001b[39m[_StreamT] \u001b[38;5;241m|\u001b[39m \u001b[38;5;28;01mNone\u001b[39;00m \u001b[38;5;241m=\u001b[39m \u001b[38;5;28;01mNone\u001b[39;00m,\n\u001b[1;32m   1176\u001b[0m ) \u001b[38;5;241m-\u001b[39m\u001b[38;5;241m>\u001b[39m ResponseT \u001b[38;5;241m|\u001b[39m _StreamT:\n\u001b[1;32m   1177\u001b[0m     opts \u001b[38;5;241m=\u001b[39m FinalRequestOptions\u001b[38;5;241m.\u001b[39mconstruct(\n\u001b[1;32m   1178\u001b[0m         method\u001b[38;5;241m=\u001b[39m\u001b[38;5;124m\"\u001b[39m\u001b[38;5;124mpost\u001b[39m\u001b[38;5;124m\"\u001b[39m, url\u001b[38;5;241m=\u001b[39mpath, json_data\u001b[38;5;241m=\u001b[39mbody, files\u001b[38;5;241m=\u001b[39mto_httpx_files(files), \u001b[38;5;241m*\u001b[39m\u001b[38;5;241m*\u001b[39moptions\n\u001b[1;32m   1179\u001b[0m     )\n\u001b[0;32m-> 1180\u001b[0m     \u001b[38;5;28;01mreturn\u001b[39;00m cast(ResponseT, \u001b[38;5;28;43mself\u001b[39;49m\u001b[38;5;241;43m.\u001b[39;49m\u001b[43mrequest\u001b[49m\u001b[43m(\u001b[49m\u001b[43mcast_to\u001b[49m\u001b[43m,\u001b[49m\u001b[43m \u001b[49m\u001b[43mopts\u001b[49m\u001b[43m,\u001b[49m\u001b[43m \u001b[49m\u001b[43mstream\u001b[49m\u001b[38;5;241;43m=\u001b[39;49m\u001b[43mstream\u001b[49m\u001b[43m,\u001b[49m\u001b[43m \u001b[49m\u001b[43mstream_cls\u001b[49m\u001b[38;5;241;43m=\u001b[39;49m\u001b[43mstream_cls\u001b[49m\u001b[43m)\u001b[49m)\n",
      "File \u001b[0;32m~/FullStack_GPT/env/lib/python3.11/site-packages/openai/_base_client.py:869\u001b[0m, in \u001b[0;36mSyncAPIClient.request\u001b[0;34m(self, cast_to, options, remaining_retries, stream, stream_cls)\u001b[0m\n\u001b[1;32m    860\u001b[0m \u001b[38;5;28;01mdef\u001b[39;00m \u001b[38;5;21mrequest\u001b[39m(\n\u001b[1;32m    861\u001b[0m     \u001b[38;5;28mself\u001b[39m,\n\u001b[1;32m    862\u001b[0m     cast_to: Type[ResponseT],\n\u001b[0;32m   (...)\u001b[0m\n\u001b[1;32m    867\u001b[0m     stream_cls: \u001b[38;5;28mtype\u001b[39m[_StreamT] \u001b[38;5;241m|\u001b[39m \u001b[38;5;28;01mNone\u001b[39;00m \u001b[38;5;241m=\u001b[39m \u001b[38;5;28;01mNone\u001b[39;00m,\n\u001b[1;32m    868\u001b[0m ) \u001b[38;5;241m-\u001b[39m\u001b[38;5;241m>\u001b[39m ResponseT \u001b[38;5;241m|\u001b[39m _StreamT:\n\u001b[0;32m--> 869\u001b[0m     \u001b[38;5;28;01mreturn\u001b[39;00m \u001b[38;5;28;43mself\u001b[39;49m\u001b[38;5;241;43m.\u001b[39;49m\u001b[43m_request\u001b[49m\u001b[43m(\u001b[49m\n\u001b[1;32m    870\u001b[0m \u001b[43m        \u001b[49m\u001b[43mcast_to\u001b[49m\u001b[38;5;241;43m=\u001b[39;49m\u001b[43mcast_to\u001b[49m\u001b[43m,\u001b[49m\n\u001b[1;32m    871\u001b[0m \u001b[43m        \u001b[49m\u001b[43moptions\u001b[49m\u001b[38;5;241;43m=\u001b[39;49m\u001b[43moptions\u001b[49m\u001b[43m,\u001b[49m\n\u001b[1;32m    872\u001b[0m \u001b[43m        \u001b[49m\u001b[43mstream\u001b[49m\u001b[38;5;241;43m=\u001b[39;49m\u001b[43mstream\u001b[49m\u001b[43m,\u001b[49m\n\u001b[1;32m    873\u001b[0m \u001b[43m        \u001b[49m\u001b[43mstream_cls\u001b[49m\u001b[38;5;241;43m=\u001b[39;49m\u001b[43mstream_cls\u001b[49m\u001b[43m,\u001b[49m\n\u001b[1;32m    874\u001b[0m \u001b[43m        \u001b[49m\u001b[43mremaining_retries\u001b[49m\u001b[38;5;241;43m=\u001b[39;49m\u001b[43mremaining_retries\u001b[49m\u001b[43m,\u001b[49m\n\u001b[1;32m    875\u001b[0m \u001b[43m    \u001b[49m\u001b[43m)\u001b[49m\n",
      "File \u001b[0;32m~/FullStack_GPT/env/lib/python3.11/site-packages/openai/_base_client.py:960\u001b[0m, in \u001b[0;36mSyncAPIClient._request\u001b[0;34m(self, cast_to, options, remaining_retries, stream, stream_cls)\u001b[0m\n\u001b[1;32m    957\u001b[0m         err\u001b[38;5;241m.\u001b[39mresponse\u001b[38;5;241m.\u001b[39mread()\n\u001b[1;32m    959\u001b[0m     log\u001b[38;5;241m.\u001b[39mdebug(\u001b[38;5;124m\"\u001b[39m\u001b[38;5;124mRe-raising status error\u001b[39m\u001b[38;5;124m\"\u001b[39m)\n\u001b[0;32m--> 960\u001b[0m     \u001b[38;5;28;01mraise\u001b[39;00m \u001b[38;5;28mself\u001b[39m\u001b[38;5;241m.\u001b[39m_make_status_error_from_response(err\u001b[38;5;241m.\u001b[39mresponse) \u001b[38;5;28;01mfrom\u001b[39;00m \u001b[38;5;28;01mNone\u001b[39;00m\n\u001b[1;32m    962\u001b[0m \u001b[38;5;28;01mreturn\u001b[39;00m \u001b[38;5;28mself\u001b[39m\u001b[38;5;241m.\u001b[39m_process_response(\n\u001b[1;32m    963\u001b[0m     cast_to\u001b[38;5;241m=\u001b[39mcast_to,\n\u001b[1;32m    964\u001b[0m     options\u001b[38;5;241m=\u001b[39moptions,\n\u001b[0;32m   (...)\u001b[0m\n\u001b[1;32m    967\u001b[0m     stream_cls\u001b[38;5;241m=\u001b[39mstream_cls,\n\u001b[1;32m    968\u001b[0m )\n",
      "\u001b[0;31mBadRequestError\u001b[0m: Error code: 400 - {'error': {'message': \"Can't add messages to thread_V7FVooZ3Y21ftrqhzk6zY2vR while a run run_RRHZvYbngLCvJEc5MQgqrrWV is active.\", 'type': 'invalid_request_error', 'param': None, 'code': None}}"
     ]
    }
   ],
   "source": [
    "send_message(thread.id, \"please go ahead\")"
   ]
  },
  {
   "cell_type": "code",
   "execution_count": 147,
   "metadata": {},
   "outputs": [
    {
     "name": "stdout",
     "output_type": "stream",
     "text": [
      "user: I want to know if the Salesforce stock is a good buy\n"
     ]
    }
   ],
   "source": [
    "get_messages(thread.id)"
   ]
  },
  {
   "cell_type": "code",
   "execution_count": 78,
   "metadata": {},
   "outputs": [
    {
     "data": {
      "text/plain": [
       "Run(id='run_9QkjnyWZOXfI37ZtmdiBX9jK', assistant_id='asst_VoWOmay5yV1QduEDlvYK6lF6', cancelled_at=None, completed_at=None, created_at=1706327883, expires_at=1706328483, failed_at=None, file_ids=[], instructions='You help users do research on traded companies in public and you help them decide if they should buy the stock or not.', last_error=None, metadata={}, model='gpt-4-1106-preview', object='thread.run', required_action=RequiredAction(submit_tool_outputs=RequiredActionSubmitToolOutputs(tool_calls=[RequiredActionFunctionToolCall(id='call_0iGNmAaVjZG3FjVD8OErJaqj', function=Function(arguments='{\"company_name\":\"Salesforce\"}', name='get_ticker'), type='function')]), type='submit_tool_outputs'), started_at=1706327884, status='requires_action', thread_id='thread_Ft8tl8enHWyCrZ9llbqeVDZI', tools=[ToolAssistantToolsFunction(function=FunctionDefinition(name='get_ticker', description='Given the name of a company returns its ticker symbol', parameters={'type': 'object', 'properties': {'company_name': {'type': 'string', 'description': 'The name of the company'}}, 'required': ['company_name']}), type='function'), ToolAssistantToolsFunction(function=FunctionDefinition(name='get_income_statement', description=\"Given a ticker symbol (i.e AAPL) returns the company's income statement.\", parameters={'type': 'object', 'properties': {'ticker': {'type': 'string', 'description': 'Ticker symbol of the company'}}, 'required': ['ticker']}), type='function'), ToolAssistantToolsFunction(function=FunctionDefinition(name='get_balance_sheet', description=\"Given a ticker symbol (i.e AAPL) returns the company's balance sheet.\", parameters={'type': 'object', 'properties': {'ticker': {'type': 'string', 'description': 'Ticker symbol of the company'}}, 'required': ['ticker']}), type='function'), ToolAssistantToolsFunction(function=FunctionDefinition(name='get_daily_stock_performance', description='Given a ticker symbol (i.e AAPL) returns the performance of the stock for the last 100 days.', parameters={'type': 'object', 'properties': {'ticker': {'type': 'string', 'description': 'Ticker symbol of the company'}}, 'required': ['ticker']}), type='function')], usage=None)"
      ]
     },
     "execution_count": 78,
     "metadata": {},
     "output_type": "execute_result"
    }
   ],
   "source": [
    "get_run(run.id, thread.id)"
   ]
  },
  {
   "cell_type": "code",
   "execution_count": 110,
   "metadata": {},
   "outputs": [
    {
     "name": "stdout",
     "output_type": "stream",
     "text": [
      "Calling function: get_ticker with arg {\"company_name\":\"Salesforce\"}\n"
     ]
    },
    {
     "data": {
      "text/plain": [
       "Run(id='run_FjXa79CoDS18BZ883W7rGvM6', assistant_id='asst_VoWOmay5yV1QduEDlvYK6lF6', cancelled_at=None, completed_at=None, created_at=1706328794, expires_at=1706329394, failed_at=None, file_ids=[], instructions='You help users do research on traded companies in public and you help them decide if they should buy the stock or not.', last_error=None, metadata={}, model='gpt-4-1106-preview', object='thread.run', required_action=None, started_at=1706328794, status='queued', thread_id='thread_5wG2kCmTPQk8F9E3PMr2lKxf', tools=[ToolAssistantToolsFunction(function=FunctionDefinition(name='get_ticker', description='Given the name of a company returns its ticker symbol', parameters={'type': 'object', 'properties': {'company_name': {'type': 'string', 'description': 'The name of the company'}}, 'required': ['company_name']}), type='function'), ToolAssistantToolsFunction(function=FunctionDefinition(name='get_income_statement', description=\"Given a ticker symbol (i.e AAPL) returns the company's income statement.\", parameters={'type': 'object', 'properties': {'ticker': {'type': 'string', 'description': 'Ticker symbol of the company'}}, 'required': ['ticker']}), type='function'), ToolAssistantToolsFunction(function=FunctionDefinition(name='get_balance_sheet', description=\"Given a ticker symbol (i.e AAPL) returns the company's balance sheet.\", parameters={'type': 'object', 'properties': {'ticker': {'type': 'string', 'description': 'Ticker symbol of the company'}}, 'required': ['ticker']}), type='function'), ToolAssistantToolsFunction(function=FunctionDefinition(name='get_daily_stock_performance', description='Given a ticker symbol (i.e AAPL) returns the performance of the stock for the last 100 days.', parameters={'type': 'object', 'properties': {'ticker': {'type': 'string', 'description': 'Ticker symbol of the company'}}, 'required': ['ticker']}), type='function')], usage=None)"
      ]
     },
     "execution_count": 110,
     "metadata": {},
     "output_type": "execute_result"
    }
   ],
   "source": [
    "submit_tool_outputs(run.id, thread.id)"
   ]
  },
  {
   "cell_type": "code",
   "execution_count": 127,
   "metadata": {},
   "outputs": [
    {
     "name": "stdout",
     "output_type": "stream",
     "text": [
      "user: I want to know if the Salesforce stock is a good buy\n",
      "assistant: To evaluate if Salesforce (CRM) stock is a good buy, we will look at several factors, including the company's financial health and stock performance:\n",
      "\n",
      "1. Financial Health: We'll review Salesforce's latest income statement and balance sheet. This will provide us with insights into the company's revenue, profitability, expenses, assets, liabilities, and equity.\n",
      "\n",
      "2. Stock Performance: We'll analyze how the stock has performed over the last 100 days to get an idea of its recent market behavior.\n",
      "\n",
      "Let me gather this information for you by using the appropriate functions. Please wait a moment while I retrieve the data.\n"
     ]
    }
   ],
   "source": [
    "get_messages(thread.id)"
   ]
  },
  {
   "cell_type": "code",
   "execution_count": 128,
   "metadata": {},
   "outputs": [
    {
     "data": {
      "text/plain": [
       "ThreadMessage(id='msg_DLM0fhAVYglNxfMSwQGYyjR4', assistant_id=None, content=[MessageContentText(text=Text(annotations=[], value='Now I want to know if Cloudflare is a good buy'), type='text')], created_at=1706337151, file_ids=[], metadata={}, object='thread.message', role='user', run_id=None, thread_id='thread_xeDrlxjnLAQRlPXHkbG2WVOv')"
      ]
     },
     "execution_count": 128,
     "metadata": {},
     "output_type": "execute_result"
    }
   ],
   "source": [
    "send_message(thread.id, \"Now I want to know if Cloudflare is a good buy\")"
   ]
  },
  {
   "cell_type": "code",
   "execution_count": 129,
   "metadata": {},
   "outputs": [
    {
     "name": "stdout",
     "output_type": "stream",
     "text": [
      "user: I want to know if the Salesforce stock is a good buy\n",
      "assistant: To evaluate if Salesforce (CRM) stock is a good buy, we will look at several factors, including the company's financial health and stock performance:\n",
      "\n",
      "1. Financial Health: We'll review Salesforce's latest income statement and balance sheet. This will provide us with insights into the company's revenue, profitability, expenses, assets, liabilities, and equity.\n",
      "\n",
      "2. Stock Performance: We'll analyze how the stock has performed over the last 100 days to get an idea of its recent market behavior.\n",
      "\n",
      "Let me gather this information for you by using the appropriate functions. Please wait a moment while I retrieve the data.\n",
      "user: Now I want to know if Cloudflare is a good buy\n"
     ]
    }
   ],
   "source": [
    "get_messages(thread.id)"
   ]
  },
  {
   "cell_type": "code",
   "execution_count": 146,
   "metadata": {},
   "outputs": [
    {
     "name": "stdout",
     "output_type": "stream",
     "text": [
      "Calling function: get_ticker with arg {\"company_name\":\"Salesforce\"}\n"
     ]
    },
    {
     "data": {
      "text/plain": [
       "[{'output': 'Salesforce is the world\\'s #1 customer relationship management (CRM) platform. Learn More. Mobile Site Search. Overview. About; Stock Information. Stock Chart; ... Current Stock quote. Historical stock quote. Look Up. Investment calculator. Investment amount ($) Start date. End date. Compare to: S&P 500. Nasdaq 100. Dow 30. Other. Reinvest ... Get Salesforce Inc (CRM.N) real-time stock quotes, news, price and financial information from Reuters to inform your trading and investments Stock analysis for Salesforce Inc (CRM:New York) including stock price, stock chart, company news, key statistics, fundamentals and company profile. Ticker Symbol CRM Full Company Profile Financial Performance In 2022, Salesforce\\'s revenue was $31.35 billion, an increase of 18.35% compared to the previous year\\'s $26.49 billion. Earnings were $208.00 million, a decrease of -85.60%. Financial Statements Analyst Forecast According to 37 analysts, the average rating for CRM stock is \"Buy.\" View Salesforce Inc CRM investment & stock information. Get the latest Salesforce Inc CRM detailed stock quotes, stock data, Real-Time ECN, charts, stats and more.',\n",
       "  'tool_call_id': 'call_hUgZBbFQSqvyMefeJtLz78K8'}]"
      ]
     },
     "execution_count": 146,
     "metadata": {},
     "output_type": "execute_result"
    }
   ],
   "source": [
    "get_tool_outputs(run.id, thread.id)"
   ]
  },
  {
   "cell_type": "code",
   "execution_count": null,
   "metadata": {},
   "outputs": [],
   "source": []
  },
  {
   "cell_type": "code",
   "execution_count": 154,
   "metadata": {},
   "outputs": [],
   "source": [
    "import openai as client\n",
    "\n",
    "assistant = client.beta.assistants.create(\n",
    "    name=\"Book Assistant\",\n",
    "    instructions=\"You help users with their question on the files they upload.\",\n",
    "    model=\"gpt-4-1106-preview\",\n",
    "    tools=[{\"type\":\"retrieval\"}]\n",
    ")\n",
    "\n",
    "assistant_id = \"asst_zYVgk5gXn2rrtHFQzYKkQweb\""
   ]
  },
  {
   "cell_type": "code",
   "execution_count": 152,
   "metadata": {},
   "outputs": [
    {
     "data": {
      "text/plain": [
       "Thread(id='thread_6aCvp0P06KQVMVNTMXTSMBme', created_at=1706338352, metadata={}, object='thread')"
      ]
     },
     "execution_count": 152,
     "metadata": {},
     "output_type": "execute_result"
    }
   ],
   "source": [
    "thread = client.beta.threads.create(\n",
    "    messages=[\n",
    "        {\n",
    "            \"role\": \"user\",\n",
    "            \"content\": \"I want you to help me with this file.\"\n",
    "        }\n",
    "    ]\n",
    ")\n",
    "\n",
    "thread"
   ]
  },
  {
   "cell_type": "code",
   "execution_count": 157,
   "metadata": {},
   "outputs": [
    {
     "data": {
      "text/plain": [
       "FileObject(id='file-mPNiCtRXrMcK9FU7cAq9Z23p', bytes=35454, created_at=1706338708, filename='chapter_one.txt', object='file', purpose='assistants', status='processed', status_details=None)"
      ]
     },
     "execution_count": 157,
     "metadata": {},
     "output_type": "execute_result"
    }
   ],
   "source": [
    "file = client.files.create(\n",
    "    file=client.file_from_path(\"./files/chapter_one.txt\"),\n",
    "    purpose=\"assistants\"\n",
    ")\n",
    "file"
   ]
  },
  {
   "cell_type": "code",
   "execution_count": 158,
   "metadata": {},
   "outputs": [
    {
     "data": {
      "text/plain": [
       "ThreadMessage(id='msg_oesVkgYEVPBk9omi4K1GNuM9', assistant_id=None, content=[MessageContentText(text=Text(annotations=[], value=''), type='text')], created_at=1706338860, file_ids=['file-mPNiCtRXrMcK9FU7cAq9Z23p'], metadata={}, object='thread.message', role='user', run_id=None, thread_id='thread_6aCvp0P06KQVMVNTMXTSMBme')"
      ]
     },
     "execution_count": 158,
     "metadata": {},
     "output_type": "execute_result"
    }
   ],
   "source": [
    "client.beta.threads.messages.create(\n",
    "    thread_id=thread.id,\n",
    "    role=\"user\",\n",
    "    content=\"\",\n",
    "    file_ids=[file.id]\n",
    ")"
   ]
  },
  {
   "cell_type": "code",
   "execution_count": 159,
   "metadata": {},
   "outputs": [
    {
     "name": "stdout",
     "output_type": "stream",
     "text": [
      "user: I want you to help me with this file.\n",
      "user: \n"
     ]
    }
   ],
   "source": [
    "get_messages(thread.id)"
   ]
  },
  {
   "cell_type": "code",
   "execution_count": 168,
   "metadata": {},
   "outputs": [
    {
     "data": {
      "text/plain": [
       "Run(id='run_JC7Lpx9eavtYFWqdzfF7CAty', assistant_id='asst_zYVgk5gXn2rrtHFQzYKkQweb', cancelled_at=None, completed_at=None, created_at=1706339372, expires_at=1706339972, failed_at=None, file_ids=[], instructions='You help users with their question on the files they upload.', last_error=None, metadata={}, model='gpt-4-1106-preview', object='thread.run', required_action=None, started_at=None, status='queued', thread_id='thread_6aCvp0P06KQVMVNTMXTSMBme', tools=[ToolAssistantToolsRetrieval(type='retrieval')], usage=None)"
      ]
     },
     "execution_count": 168,
     "metadata": {},
     "output_type": "execute_result"
    }
   ],
   "source": [
    "run = client.beta.threads.runs.create(\n",
    "    thread_id=thread.id,\n",
    "    assistant_id=assistant_id\n",
    ")\n",
    "run"
   ]
  },
  {
   "cell_type": "code",
   "execution_count": 163,
   "metadata": {},
   "outputs": [
    {
     "name": "stdout",
     "output_type": "stream",
     "text": [
      "user: I want you to help me with this file.\n",
      "user: \n",
      "assistant: It appears there's been a misunderstanding. Unfortunately, I cannot directly access the content of your uploaded file since it is not in a format compatible with my browsing tools. However, if you can provide me with specific questions or tell me what you need help with regarding the file, I may be able to offer you some guidance or assistance. Please let me know how I can assist you further.\n",
      "assistant: How may I assist you with your file? Please let me know what specific information or task you need help with.\n"
     ]
    }
   ],
   "source": [
    "get_messages(thread.id)"
   ]
  },
  {
   "cell_type": "code",
   "execution_count": 164,
   "metadata": {},
   "outputs": [
    {
     "data": {
      "text/plain": [
       "ThreadMessage(id='msg_9zRL6GSjsvM1vWm9T1DZmHk5', assistant_id=None, content=[MessageContentText(text=Text(annotations=[], value='I want to know where does Winston live and how his apartment looks like.'), type='text')], created_at=1706339168, file_ids=[], metadata={}, object='thread.message', role='user', run_id=None, thread_id='thread_6aCvp0P06KQVMVNTMXTSMBme')"
      ]
     },
     "execution_count": 164,
     "metadata": {},
     "output_type": "execute_result"
    }
   ],
   "source": [
    "send_message(thread.id, \"I want to know where does Winston live and how his apartment looks like.\")"
   ]
  },
  {
   "cell_type": "code",
   "execution_count": 166,
   "metadata": {},
   "outputs": [
    {
     "name": "stdout",
     "output_type": "stream",
     "text": [
      "user: I want you to help me with this file.\n",
      "user: \n",
      "assistant: It appears there's been a misunderstanding. Unfortunately, I cannot directly access the content of your uploaded file since it is not in a format compatible with my browsing tools. However, if you can provide me with specific questions or tell me what you need help with regarding the file, I may be able to offer you some guidance or assistance. Please let me know how I can assist you further.\n",
      "assistant: How may I assist you with your file? Please let me know what specific information or task you need help with.\n",
      "user: I want to know where does Winston live and how his apartment looks like.\n",
      "assistant: Winston lives in an apartment building called Victory Mansions. Upon entering Victory Mansions, Winston is faced with a gritty dust swirl carried in by a vile wind. The hallways of the building have an unpleasant smell of boiled cabbage and old rag mats. The lift often does not work and there were no attempts to fix it during the time of power cuts to prepare for Hate Week, so Winston has to use the stairs to reach his flat, which is seven flights up. The flat itself has a telescreen that cannot be completely turned off, which serves not only as a source of propaganda but also as a monitoring device to observe and listen to the inhabitants continuously. Winston's physical appearance is also described; he is a frail figure with fair hair, roughened skin, and he wears the blue overalls that is the uniform of the party.\n",
      "\n",
      "The apartment and its surroundings reflect the bleakness and decay of the world Orwell depicts in \"1984,\" with constant surveillance by Big Brother, posters with party slogans plastered everywhere, and government buildings that loom over the desolate landscape. There's a sense of grim functionality to Winston's living space, combined with a lack of privacy due to the omnipresent telescreen. The decrepit state of the surroundings and the intrusion of the Party into personal spaces are central to the setting and tone of the novel.\n"
     ]
    }
   ],
   "source": [
    "get_messages(thread.id)"
   ]
  },
  {
   "cell_type": "code",
   "execution_count": 167,
   "metadata": {},
   "outputs": [
    {
     "data": {
      "text/plain": [
       "ThreadMessage(id='msg_br6hCGRw1piSjrg5fik4zQH2', assistant_id=None, content=[MessageContentText(text=Text(annotations=[], value=' Where does he work?'), type='text')], created_at=1706339330, file_ids=[], metadata={}, object='thread.message', role='user', run_id=None, thread_id='thread_6aCvp0P06KQVMVNTMXTSMBme')"
      ]
     },
     "execution_count": 167,
     "metadata": {},
     "output_type": "execute_result"
    }
   ],
   "source": [
    "send_message(thread.id,\" Where does he work?\")"
   ]
  },
  {
   "cell_type": "code",
   "execution_count": 169,
   "metadata": {},
   "outputs": [
    {
     "name": "stdout",
     "output_type": "stream",
     "text": [
      "user: I want you to help me with this file.\n",
      "user: \n",
      "assistant: It appears there's been a misunderstanding. Unfortunately, I cannot directly access the content of your uploaded file since it is not in a format compatible with my browsing tools. However, if you can provide me with specific questions or tell me what you need help with regarding the file, I may be able to offer you some guidance or assistance. Please let me know how I can assist you further.\n",
      "assistant: How may I assist you with your file? Please let me know what specific information or task you need help with.\n",
      "user: I want to know where does Winston live and how his apartment looks like.\n",
      "assistant: Winston lives in an apartment building called Victory Mansions. Upon entering Victory Mansions, Winston is faced with a gritty dust swirl carried in by a vile wind. The hallways of the building have an unpleasant smell of boiled cabbage and old rag mats. The lift often does not work and there were no attempts to fix it during the time of power cuts to prepare for Hate Week, so Winston has to use the stairs to reach his flat, which is seven flights up. The flat itself has a telescreen that cannot be completely turned off, which serves not only as a source of propaganda but also as a monitoring device to observe and listen to the inhabitants continuously. Winston's physical appearance is also described; he is a frail figure with fair hair, roughened skin, and he wears the blue overalls that is the uniform of the party.\n",
      "\n",
      "The apartment and its surroundings reflect the bleakness and decay of the world Orwell depicts in \"1984,\" with constant surveillance by Big Brother, posters with party slogans plastered everywhere, and government buildings that loom over the desolate landscape. There's a sense of grim functionality to Winston's living space, combined with a lack of privacy due to the omnipresent telescreen. The decrepit state of the surroundings and the intrusion of the Party into personal spaces are central to the setting and tone of the novel.\n",
      "user:  Where does he work?\n",
      "assistant: Winston works at the Ministry of Truth, which is referred to as \"Minitrue\" in Newspeak. The Ministry of Truth is an enormous pyramidal structure that is 300 meters tall, made of glittering white concrete, and stands out significantly amidst the surrounding architecture. Its primary concerns are with news, entertainment, education, and the fine arts.\n",
      "\n",
      "The Ministry is one of four such large government buildings in London, each housing a different ministry responsible for different aspects of the government's operations. These include the Ministry of Peace (dealing with war), the Ministry of Love (maintaining law and order), and the Ministry of Plenty (responsible for economic affairs), in addition to the Ministry of Truth where Winston works. Each of these buildings dwarfs the surrounding structures and brings home the omnipresence of the Party and its control over every facet of life in Oceania.\n"
     ]
    }
   ],
   "source": [
    "get_messages(thread.id)"
   ]
  },
  {
   "cell_type": "code",
   "execution_count": 173,
   "metadata": {},
   "outputs": [
    {
     "name": "stdout",
     "output_type": "stream",
     "text": [
      "user: I want you to help me with this file.\n",
      "user: \n",
      "assistant: It appears there's been a misunderstanding. Unfortunately, I cannot directly access the content of your uploaded file since it is not in a format compatible with my browsing tools. However, if you can provide me with specific questions or tell me what you need help with regarding the file, I may be able to offer you some guidance or assistance. Please let me know how I can assist you further.\n",
      "assistant: How may I assist you with your file? Please let me know what specific information or task you need help with.\n",
      "user: I want to know where does Winston live and how his apartment looks like.\n",
      "assistant: Winston lives in an apartment building called Victory Mansions. Upon entering Victory Mansions, Winston is faced with a gritty dust swirl carried in by a vile wind. The hallways of the building have an unpleasant smell of boiled cabbage and old rag mats. The lift often does not work and there were no attempts to fix it during the time of power cuts to prepare for Hate Week, so Winston has to use the stairs to reach his flat, which is seven flights up. The flat itself has a telescreen that cannot be completely turned off, which serves not only as a source of propaganda but also as a monitoring device to observe and listen to the inhabitants continuously. Winston's physical appearance is also described; he is a frail figure with fair hair, roughened skin, and he wears the blue overalls that is the uniform of the party.\n",
      "\n",
      "The apartment and its surroundings reflect the bleakness and decay of the world Orwell depicts in \"1984,\" with constant surveillance by Big Brother, posters with party slogans plastered everywhere, and government buildings that loom over the desolate landscape. There's a sense of grim functionality to Winston's living space, combined with a lack of privacy due to the omnipresent telescreen. The decrepit state of the surroundings and the intrusion of the Party into personal spaces are central to the setting and tone of the novel.\n",
      "user:  Where does he work?\n",
      "assistant: Winston works at the Ministry of Truth, which is referred to as \"Minitrue\" in Newspeak. The Ministry of Truth is an enormous pyramidal structure that is 300 meters tall, made of glittering white concrete, and stands out significantly amidst the surrounding architecture. Its primary concerns are with news, entertainment, education, and the fine arts.\n",
      "\n",
      "The Ministry is one of four such large government buildings in London, each housing a different ministry responsible for different aspects of the government's operations. These include the Ministry of Peace (dealing with war), the Ministry of Love (maintaining law and order), and the Ministry of Plenty (responsible for economic affairs), in addition to the Ministry of Truth where Winston works. Each of these buildings dwarfs the surrounding structures and brings home the omnipresence of the Party and its control over every facet of life in Oceania.\n"
     ]
    }
   ],
   "source": [
    "get_messages(thread.id)"
   ]
  },
  {
   "cell_type": "code",
   "execution_count": 1,
   "metadata": {},
   "outputs": [],
   "source": [
    "import os\n",
    "import boto3\n",
    "\n",
    "session = boto3.Session(\n",
    "    aws_access_key_id = os.getenv(\"AWS_ACCESS_KEY\"),\n",
    "    aws_secret_access_key = os.getenv(\"AWS_SECRET_KEY\")\n",
    ")\n",
    "\n",
    "client = session.client(\"bedrock-runtime\", \"us-east-1\")"
   ]
  },
  {
   "cell_type": "code",
   "execution_count": null,
   "metadata": {},
   "outputs": [],
   "source": [
    "from langchain.chat_models import BedrockChat\n",
    "from langchain.prompts import ChatPromptTemplate\n",
    "\n",
    "chat = BedrockChat(\n",
    "    client=client,\n",
    "    model_id=\"anthropic.claude-v2\",\n",
    "    model_kwargs={\n",
    "        \"temperature\": 0.1\n",
    "    }\n",
    ")\n",
    "\n",
    "prompt = ChatPromptTemplate.from_messages(\n",
    "    [\n",
    "        (\n",
    "            \"user\",\n",
    "            \"Translate this sentence from {lang_a} to {lang_b}: {sentence}\"\n",
    "        )\n",
    "    ]\n",
    ")\n",
    "\n",
    "chain = prompt | chat\n",
    "\n",
    "chain.invoke({\n",
    "    \"lang_a\": \"English\",\n",
    "    \"lang_b\": \"Korean\",\n",
    "    \"sentence\": \"I love amazon\"\n",
    "})"
   ]
  },
  {
   "cell_type": "code",
   "execution_count": null,
   "metadata": {},
   "outputs": [],
   "source": [
    "from langchain.chat_models import AzureChatOpenAI\n",
    "from langchain.prompts import ChatPromptTemplate\n",
    "\n",
    "chat = AzureChatOpenAI(\n",
    "    azure_deployment=\"gpt-35-turbo\",\n",
    "    api_version=\"2023-05-15\"\n",
    ")\n",
    "\n",
    "prompt = ChatPromptTemplate.from_messages(\n",
    "    [\n",
    "        (\n",
    "            \"user\",\n",
    "            \"Translate this sentence from {lang_a} to {lang_b}: {sentence}\"\n",
    "        )\n",
    "    ]\n",
    ")\n",
    "\n",
    "chain = prompt | chat\n",
    "\n",
    "chain.invoke({\n",
    "    \"lang_a\": \"English\",\n",
    "    \"lang_b\": \"Korean\",\n",
    "    \"sentence\": \"I love MS\"\n",
    "})"
   ]
  }
 ],
 "metadata": {
  "kernelspec": {
   "display_name": "env",
   "language": "python",
   "name": "python3"
  },
  "language_info": {
   "codemirror_mode": {
    "name": "ipython",
    "version": 3
   },
   "file_extension": ".py",
   "mimetype": "text/x-python",
   "name": "python",
   "nbconvert_exporter": "python",
   "pygments_lexer": "ipython3",
   "version": "3.11.6"
  }
 },
 "nbformat": 4,
 "nbformat_minor": 2
}
